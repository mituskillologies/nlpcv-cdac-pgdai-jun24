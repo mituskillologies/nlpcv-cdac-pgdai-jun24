{
 "cells": [
  {
   "cell_type": "markdown",
   "id": "bb1b4455-ab9f-4fc7-aaaa-19442c0d85a7",
   "metadata": {},
   "source": [
    "##### Install the library"
   ]
  },
  {
   "cell_type": "code",
   "execution_count": 2,
   "id": "1618866c-825d-4efe-b2c1-9bba3ed8ea44",
   "metadata": {},
   "outputs": [
    {
     "name": "stdout",
     "output_type": "stream",
     "text": [
      "Defaulting to user installation because normal site-packages is not writeable\n",
      "Requirement already satisfied: indic_transliteration in /home/mitu/.local/lib/python3.10/site-packages (2.3.59)\n",
      "Requirement already satisfied: backports.functools-lru-cache in /home/mitu/.local/lib/python3.10/site-packages (from indic_transliteration) (2.0.0)\n",
      "Requirement already satisfied: regex in /home/mitu/.local/lib/python3.10/site-packages (from indic_transliteration) (2023.12.25)\n",
      "Requirement already satisfied: typer in /home/mitu/.local/lib/python3.10/site-packages (from indic_transliteration) (0.9.4)\n",
      "Requirement already satisfied: toml in /home/mitu/.local/lib/python3.10/site-packages (from indic_transliteration) (0.10.2)\n",
      "Requirement already satisfied: roman in /home/mitu/.local/lib/python3.10/site-packages (from indic_transliteration) (4.1)\n",
      "Requirement already satisfied: click<9.0.0,>=7.1.1 in /home/mitu/.local/lib/python3.10/site-packages (from typer->indic_transliteration) (8.1.7)\n",
      "Requirement already satisfied: typing-extensions>=3.7.4.3 in /usr/local/lib/python3.10/dist-packages (from typer->indic_transliteration) (4.9.0)\n",
      "Note: you may need to restart the kernel to use updated packages.\n"
     ]
    }
   ],
   "source": [
    "pip install indic_transliteration"
   ]
  },
  {
   "cell_type": "markdown",
   "id": "c2be9977-31f7-469d-b616-19f3d48560f9",
   "metadata": {},
   "source": [
    "##### Import the library"
   ]
  },
  {
   "cell_type": "code",
   "execution_count": 5,
   "id": "72601122-f7b5-4d58-9f4e-dcc33c3d3ac8",
   "metadata": {},
   "outputs": [],
   "source": [
    "from indic_transliteration import sanscript \n",
    "from indic_transliteration.sanscript import transliterate"
   ]
  },
  {
   "cell_type": "code",
   "execution_count": 6,
   "id": "f636adcb-df67-4ada-9ec5-64eb03351e3b",
   "metadata": {},
   "outputs": [],
   "source": [
    "data = 'tuShaara'"
   ]
  },
  {
   "cell_type": "code",
   "execution_count": 7,
   "id": "f5855302-f8d4-4304-972f-996d5beb4959",
   "metadata": {},
   "outputs": [
    {
     "name": "stdout",
     "output_type": "stream",
     "text": [
      "तुषार\n"
     ]
    }
   ],
   "source": [
    "print(transliterate(data, sanscript.ITRANS, sanscript.DEVANAGARI))"
   ]
  },
  {
   "cell_type": "code",
   "execution_count": 8,
   "id": "c642ac0e-086c-4f53-b793-9c1fa86be971",
   "metadata": {},
   "outputs": [
    {
     "name": "stdout",
     "output_type": "stream",
     "text": [
      "भारतीय\n"
     ]
    }
   ],
   "source": [
    "print(transliterate(\"bhaaratIya\", sanscript.ITRANS, sanscript.DEVANAGARI))"
   ]
  },
  {
   "cell_type": "code",
   "execution_count": 10,
   "id": "8c949612-2928-40b4-bce0-7a227fde787b",
   "metadata": {},
   "outputs": [
    {
     "name": "stdout",
     "output_type": "stream",
     "text": [
      "ভারতীয\n"
     ]
    }
   ],
   "source": [
    "print(transliterate(\"bhaaratIya\", sanscript.ITRANS, sanscript.BENGALI))"
   ]
  },
  {
   "cell_type": "code",
   "execution_count": 11,
   "id": "0f50a3c3-58e0-4661-aa5f-31bcd5192204",
   "metadata": {},
   "outputs": [
    {
     "name": "stdout",
     "output_type": "stream",
     "text": [
      "ਭਾਰਤੀਯ\n"
     ]
    }
   ],
   "source": [
    "print(transliterate(\"bhaaratIya\", sanscript.ITRANS, sanscript.GURMUKHI))"
   ]
  },
  {
   "cell_type": "code",
   "execution_count": 14,
   "id": "5c744d7d-45d7-41d9-b86e-2172de740ede",
   "metadata": {},
   "outputs": [
    {
     "name": "stdout",
     "output_type": "stream",
     "text": [
      "ഭാരതീയ\n"
     ]
    }
   ],
   "source": [
    "print(transliterate(\"bhaaratIya\", sanscript.ITRANS, sanscript.MALAYALAM))"
   ]
  },
  {
   "cell_type": "code",
   "execution_count": 15,
   "id": "fafdcbe4-68fc-4e8e-9f5b-a4971ac4b7e7",
   "metadata": {},
   "outputs": [
    {
     "name": "stdin",
     "output_type": "stream",
     "text": [
      "Enter your name: puNe\n"
     ]
    },
    {
     "name": "stdout",
     "output_type": "stream",
     "text": [
      "पुणे\n"
     ]
    }
   ],
   "source": [
    "data = input('Enter your name:')\n",
    "print(transliterate(data, sanscript.ITRANS, sanscript.DEVANAGARI))"
   ]
  },
  {
   "cell_type": "code",
   "execution_count": null,
   "id": "53823493-e9cc-4819-ba0c-32c1796734bd",
   "metadata": {},
   "outputs": [],
   "source": []
  }
 ],
 "metadata": {
  "kernelspec": {
   "display_name": "Python 3 (ipykernel)",
   "language": "python",
   "name": "python3"
  },
  "language_info": {
   "codemirror_mode": {
    "name": "ipython",
    "version": 3
   },
   "file_extension": ".py",
   "mimetype": "text/x-python",
   "name": "python",
   "nbconvert_exporter": "python",
   "pygments_lexer": "ipython3",
   "version": "3.10.12"
  }
 },
 "nbformat": 4,
 "nbformat_minor": 5
}
