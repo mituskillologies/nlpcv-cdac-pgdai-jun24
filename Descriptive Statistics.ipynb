{
 "cells": [
  {
   "cell_type": "code",
   "execution_count": 7,
   "id": "baa6dae0-4352-40ef-a57e-db434f8abb90",
   "metadata": {},
   "outputs": [],
   "source": [
    "import numpy as np"
   ]
  },
  {
   "cell_type": "markdown",
   "id": "331c6247-904b-48f9-acfb-db11382ddd11",
   "metadata": {},
   "source": [
    "#### Mean"
   ]
  },
  {
   "cell_type": "code",
   "execution_count": 8,
   "id": "e89317bd-9351-4dcf-a70b-2af9fb99e5f1",
   "metadata": {},
   "outputs": [],
   "source": [
    "num = np.array([45,66,23,16,44,86,89,52])"
   ]
  },
  {
   "cell_type": "code",
   "execution_count": 9,
   "id": "75f08d9a-d26b-41fa-b424-b3489a494e62",
   "metadata": {},
   "outputs": [
    {
     "data": {
      "text/plain": [
       "52.625"
      ]
     },
     "execution_count": 9,
     "metadata": {},
     "output_type": "execute_result"
    }
   ],
   "source": [
    "sum(num) / len(num)"
   ]
  },
  {
   "cell_type": "code",
   "execution_count": 10,
   "id": "c40eabff-b362-4c34-922d-9dd75a7be433",
   "metadata": {},
   "outputs": [
    {
     "data": {
      "text/plain": [
       "52.625"
      ]
     },
     "execution_count": 10,
     "metadata": {},
     "output_type": "execute_result"
    }
   ],
   "source": [
    "num.mean()"
   ]
  },
  {
   "cell_type": "markdown",
   "id": "98b32041-56c2-4257-9a7a-d4ff1001d986",
   "metadata": {},
   "source": [
    "#### Median"
   ]
  },
  {
   "cell_type": "code",
   "execution_count": 13,
   "id": "34c21255-e00d-4de8-bd73-a5f8d2e48eb2",
   "metadata": {},
   "outputs": [],
   "source": [
    "num.sort()"
   ]
  },
  {
   "cell_type": "code",
   "execution_count": 14,
   "id": "2e461efd-4c7c-411d-a829-476b544f7846",
   "metadata": {},
   "outputs": [
    {
     "data": {
      "text/plain": [
       "array([16, 23, 44, 45, 52, 66, 86, 89])"
      ]
     },
     "execution_count": 14,
     "metadata": {},
     "output_type": "execute_result"
    }
   ],
   "source": [
    "num"
   ]
  },
  {
   "cell_type": "code",
   "execution_count": 15,
   "id": "cbcdfe2e-6dda-4f80-98f9-7ebbae4555ef",
   "metadata": {},
   "outputs": [
    {
     "data": {
      "text/plain": [
       "48.5"
      ]
     },
     "execution_count": 15,
     "metadata": {},
     "output_type": "execute_result"
    }
   ],
   "source": [
    "np.median(num)"
   ]
  },
  {
   "cell_type": "markdown",
   "id": "1c44c389-8f96-4a56-9570-f802045efa1b",
   "metadata": {},
   "source": [
    "#### Mode"
   ]
  },
  {
   "cell_type": "code",
   "execution_count": 17,
   "id": "f6ec51cb-4fa0-4e32-a366-e584e7ca8e00",
   "metadata": {},
   "outputs": [],
   "source": [
    "import pandas as pd"
   ]
  },
  {
   "cell_type": "code",
   "execution_count": 22,
   "id": "347d6f8a-4cb8-4f5f-adbd-2cdba4a8c880",
   "metadata": {},
   "outputs": [],
   "source": [
    "s = pd.Series([6,7,5,4,5,7,9,8,7,5,3,4,5,6,5,3,7,7])"
   ]
  },
  {
   "cell_type": "code",
   "execution_count": 23,
   "id": "386b5ba9-127d-4334-a8c0-ff15e31807af",
   "metadata": {},
   "outputs": [
    {
     "data": {
      "text/plain": [
       "0     6\n",
       "1     7\n",
       "2     5\n",
       "3     4\n",
       "4     5\n",
       "5     7\n",
       "6     9\n",
       "7     8\n",
       "8     7\n",
       "9     5\n",
       "10    3\n",
       "11    4\n",
       "12    5\n",
       "13    6\n",
       "14    5\n",
       "15    3\n",
       "16    7\n",
       "17    7\n",
       "dtype: int64"
      ]
     },
     "execution_count": 23,
     "metadata": {},
     "output_type": "execute_result"
    }
   ],
   "source": [
    "s"
   ]
  },
  {
   "cell_type": "code",
   "execution_count": 24,
   "id": "352e04c7-2ac7-4d5a-8473-07aff100ccd1",
   "metadata": {},
   "outputs": [
    {
     "data": {
      "text/plain": [
       "0    5\n",
       "1    7\n",
       "dtype: int64"
      ]
     },
     "execution_count": 24,
     "metadata": {},
     "output_type": "execute_result"
    }
   ],
   "source": [
    "s.mode()"
   ]
  },
  {
   "cell_type": "code",
   "execution_count": 25,
   "id": "9c927dd0-e2fa-4e15-ad20-d61711113ff3",
   "metadata": {},
   "outputs": [
    {
     "data": {
      "text/plain": [
       "7    5\n",
       "5    5\n",
       "6    2\n",
       "4    2\n",
       "3    2\n",
       "9    1\n",
       "8    1\n",
       "Name: count, dtype: int64"
      ]
     },
     "execution_count": 25,
     "metadata": {},
     "output_type": "execute_result"
    }
   ],
   "source": [
    "s.value_counts()"
   ]
  },
  {
   "cell_type": "code",
   "execution_count": 28,
   "id": "c4f7bbb8-6df8-4454-b4b0-2834bf9239a3",
   "metadata": {},
   "outputs": [],
   "source": [
    "s = pd.Series(['M','F','F','F','M','F','F','M','M','F',])"
   ]
  },
  {
   "cell_type": "code",
   "execution_count": 29,
   "id": "78c8c7f6-cbb3-4a91-afe2-3635c1525b84",
   "metadata": {},
   "outputs": [
    {
     "data": {
      "text/plain": [
       "0    F\n",
       "dtype: object"
      ]
     },
     "execution_count": 29,
     "metadata": {},
     "output_type": "execute_result"
    }
   ],
   "source": [
    "s.mode()"
   ]
  },
  {
   "cell_type": "code",
   "execution_count": 30,
   "id": "20ed7caa-c156-4580-9947-931e6b41bb11",
   "metadata": {},
   "outputs": [
    {
     "data": {
      "text/plain": [
       "F    6\n",
       "M    4\n",
       "Name: count, dtype: int64"
      ]
     },
     "execution_count": 30,
     "metadata": {},
     "output_type": "execute_result"
    }
   ],
   "source": [
    "s.value_counts()"
   ]
  },
  {
   "cell_type": "markdown",
   "id": "d76c89d1-4ed7-4326-9b6e-018e67a32d6f",
   "metadata": {},
   "source": [
    "#### Mean Absolute Deviation"
   ]
  },
  {
   "cell_type": "code",
   "execution_count": 32,
   "id": "6fbcb747-c0f0-4a4e-80b8-c7543b918a62",
   "metadata": {},
   "outputs": [],
   "source": [
    "num = np.array([45,66,23,16,44,86,89,52])"
   ]
  },
  {
   "cell_type": "code",
   "execution_count": 33,
   "id": "5eb5c9f5-63e6-4ec2-9a75-e273af7ca550",
   "metadata": {},
   "outputs": [],
   "source": [
    "m = num.mean()"
   ]
  },
  {
   "cell_type": "code",
   "execution_count": 34,
   "id": "09f35545-c7be-405b-811b-f9a67f542d53",
   "metadata": {},
   "outputs": [
    {
     "data": {
      "text/plain": [
       "52.625"
      ]
     },
     "execution_count": 34,
     "metadata": {},
     "output_type": "execute_result"
    }
   ],
   "source": [
    "m"
   ]
  },
  {
   "cell_type": "code",
   "execution_count": 38,
   "id": "5f26338c-eec4-4f86-9ff1-1344df593205",
   "metadata": {},
   "outputs": [
    {
     "data": {
      "text/plain": [
       "20.78125"
      ]
     },
     "execution_count": 38,
     "metadata": {},
     "output_type": "execute_result"
    }
   ],
   "source": [
    "np.mean(abs(num - m))"
   ]
  },
  {
   "cell_type": "markdown",
   "id": "c080acf8-e73a-4364-88b0-ad7d623f5c28",
   "metadata": {},
   "source": [
    "#### Variance"
   ]
  },
  {
   "cell_type": "code",
   "execution_count": 40,
   "id": "3ffeb683-c419-47e1-8fbd-b836ec37fc3d",
   "metadata": {},
   "outputs": [],
   "source": [
    "num = np.array([45,66,23,16,44,86,89,52])"
   ]
  },
  {
   "cell_type": "code",
   "execution_count": 44,
   "id": "8749e302-542d-49c5-91d1-890fe43601a5",
   "metadata": {},
   "outputs": [
    {
     "data": {
      "text/plain": [
       "620.984375"
      ]
     },
     "execution_count": 44,
     "metadata": {},
     "output_type": "execute_result"
    }
   ],
   "source": [
    "np.mean((num - num.mean()) ** 2)"
   ]
  },
  {
   "cell_type": "markdown",
   "id": "ebbdce5e-0806-46a7-942e-d7d48ce94ea5",
   "metadata": {},
   "source": [
    "#### Standard Deviation"
   ]
  },
  {
   "cell_type": "code",
   "execution_count": 46,
   "id": "cd9d4037-3cb3-47bc-a472-384496b019fa",
   "metadata": {},
   "outputs": [],
   "source": [
    "num = np.array([45,66,23,16,44,86,89,52])"
   ]
  },
  {
   "cell_type": "code",
   "execution_count": 47,
   "id": "2efe2d62-785c-4352-b957-f83fb53604bb",
   "metadata": {},
   "outputs": [
    {
     "data": {
      "text/plain": [
       "620.984375"
      ]
     },
     "execution_count": 47,
     "metadata": {},
     "output_type": "execute_result"
    }
   ],
   "source": [
    "np.mean((num - num.mean()) ** 2)"
   ]
  },
  {
   "cell_type": "code",
   "execution_count": 48,
   "id": "7a728ec7-5b5c-4f73-b617-bf0db6698348",
   "metadata": {},
   "outputs": [
    {
     "data": {
      "text/plain": [
       "24.919558081956428"
      ]
     },
     "execution_count": 48,
     "metadata": {},
     "output_type": "execute_result"
    }
   ],
   "source": [
    "np.sqrt(np.mean((num - num.mean()) ** 2))"
   ]
  },
  {
   "cell_type": "code",
   "execution_count": 49,
   "id": "bef7fa67-0cc5-4cbb-9c32-b548a6b6b86d",
   "metadata": {},
   "outputs": [
    {
     "data": {
      "text/plain": [
       "24.919558081956428"
      ]
     },
     "execution_count": 49,
     "metadata": {},
     "output_type": "execute_result"
    }
   ],
   "source": [
    "num.std()"
   ]
  },
  {
   "cell_type": "code",
   "execution_count": 50,
   "id": "f158335d-f1df-48af-9717-ea29c8be51d3",
   "metadata": {},
   "outputs": [],
   "source": [
    "s = pd.Series([45,66,23,16,44,86,89,52])"
   ]
  },
  {
   "cell_type": "code",
   "execution_count": 51,
   "id": "0c8eabf9-76c2-4449-af34-762117ef5770",
   "metadata": {},
   "outputs": [
    {
     "data": {
      "text/plain": [
       "26.64012816356987"
      ]
     },
     "execution_count": 51,
     "metadata": {},
     "output_type": "execute_result"
    }
   ],
   "source": [
    "s.std()"
   ]
  },
  {
   "cell_type": "code",
   "execution_count": null,
   "id": "10c9ce08-495e-4a46-aa53-91e948cfff18",
   "metadata": {},
   "outputs": [],
   "source": []
  }
 ],
 "metadata": {
  "kernelspec": {
   "display_name": "Python 3 (ipykernel)",
   "language": "python",
   "name": "python3"
  },
  "language_info": {
   "codemirror_mode": {
    "name": "ipython",
    "version": 3
   },
   "file_extension": ".py",
   "mimetype": "text/x-python",
   "name": "python",
   "nbconvert_exporter": "python",
   "pygments_lexer": "ipython3",
   "version": "3.10.12"
  }
 },
 "nbformat": 4,
 "nbformat_minor": 5
}
