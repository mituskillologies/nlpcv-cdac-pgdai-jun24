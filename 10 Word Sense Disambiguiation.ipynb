{
 "cells": [
  {
   "cell_type": "code",
   "execution_count": 8,
   "id": "96551eb6-3bec-4b84-a39f-59b5d4b498ca",
   "metadata": {},
   "outputs": [],
   "source": [
    "from nltk.wsd import lesk\n",
    "from nltk.tokenize import word_tokenize"
   ]
  },
  {
   "cell_type": "code",
   "execution_count": 9,
   "id": "edef24a3-ce5f-4dc8-af92-9879bf6d369a",
   "metadata": {},
   "outputs": [],
   "source": [
    "a1 = lesk (word_tokenize('This device is used to jam the signal.'), 'jam')"
   ]
  },
  {
   "cell_type": "code",
   "execution_count": 10,
   "id": "eb7ab148-731b-45b4-9f21-ae406c327ad1",
   "metadata": {},
   "outputs": [
    {
     "data": {
      "text/plain": [
       "'deliberate radiation or reflection of electromagnetic energy for the purpose of disrupting enemy use of electronic devices or systems'"
      ]
     },
     "execution_count": 10,
     "metadata": {},
     "output_type": "execute_result"
    }
   ],
   "source": [
    "a1.definition()"
   ]
  },
  {
   "cell_type": "code",
   "execution_count": 11,
   "id": "4f70ee32-592f-4520-a5f5-39b9767588b9",
   "metadata": {},
   "outputs": [
    {
     "data": {
      "text/plain": [
       "'get stuck and immobilized'"
      ]
     },
     "execution_count": 11,
     "metadata": {},
     "output_type": "execute_result"
    }
   ],
   "source": [
    "a2 = lesk(word_tokenize('''It is a heavy traffic jam here. \n",
    "We are stuck at same place.'''),'jam')\n",
    "a2.definition()"
   ]
  },
  {
   "cell_type": "code",
   "execution_count": 12,
   "id": "bdb8600b-ab55-4a54-bf23-c1ffa394598c",
   "metadata": {},
   "outputs": [
    {
     "data": {
      "text/plain": [
       "'discover or come upon accidentally, suddenly, or unexpectedly; catch somebody doing something or in a certain state'"
      ]
     },
     "execution_count": 12,
     "metadata": {},
     "output_type": "execute_result"
    }
   ],
   "source": [
    "a3 = lesk (word_tokenize('It was a good catch by the player.'), 'catch')\n",
    "a3.definition()"
   ]
  },
  {
   "cell_type": "code",
   "execution_count": 13,
   "id": "734b5d02-d874-4b6f-a74a-2b9267b4632c",
   "metadata": {},
   "outputs": [
    {
     "data": {
      "text/plain": [
       "'catch up with and possibly overtake'"
      ]
     },
     "execution_count": 13,
     "metadata": {},
     "output_type": "execute_result"
    }
   ],
   "source": [
    "a4 = lesk (word_tokenize('You should catch that opportunity.'), 'catch')\n",
    "a4.definition()"
   ]
  },
  {
   "cell_type": "code",
   "execution_count": 16,
   "id": "d9240824-c15f-466b-892d-10736320e208",
   "metadata": {},
   "outputs": [
    {
     "data": {
      "text/plain": [
       "'prefer or wish to do something'"
      ]
     },
     "execution_count": 16,
     "metadata": {},
     "output_type": "execute_result"
    }
   ],
   "source": [
    "d1= lesk(word_tokenize('He like flowers.'),'like')\n",
    "d1.definition()"
   ]
  },
  {
   "cell_type": "code",
   "execution_count": 17,
   "id": "dfb76bd6-c64c-4c36-a1f7-301ceb428469",
   "metadata": {},
   "outputs": [
    {
     "data": {
      "text/plain": [
       "'a kind of person'"
      ]
     },
     "execution_count": 17,
     "metadata": {},
     "output_type": "execute_result"
    }
   ],
   "source": [
    "d1= lesk(word_tokenize('The association is like a bad combination'),'like')\n",
    "d1.definition()"
   ]
  },
  {
   "cell_type": "code",
   "execution_count": 18,
   "id": "b4001a36-a433-4206-89cf-0e4be23bc51a",
   "metadata": {},
   "outputs": [
    {
     "data": {
      "text/plain": [
       "'the system whereby messages are transmitted via the post office'"
      ]
     },
     "execution_count": 18,
     "metadata": {},
     "output_type": "execute_result"
    }
   ],
   "source": [
    "d2= lesk(word_tokenize('He has sent the message by post.'),'post')\n",
    "d2.definition()"
   ]
  },
  {
   "cell_type": "code",
   "execution_count": 23,
   "id": "c5776cf1-9fc9-4ccf-861a-1338d6525aeb",
   "metadata": {},
   "outputs": [
    {
     "data": {
      "text/plain": [
       "'transfer (entries) from one account book to another'"
      ]
     },
     "execution_count": 23,
     "metadata": {},
     "output_type": "execute_result"
    }
   ],
   "source": [
    "d2= lesk(word_tokenize('You can post it on your social media account.'),'post')\n",
    "d2.definition()"
   ]
  },
  {
   "cell_type": "code",
   "execution_count": 24,
   "id": "3854193f-e1d7-4c70-872b-9df56f79a139",
   "metadata": {},
   "outputs": [
    {
     "data": {
      "text/plain": [
       "'a container (usually with a slot in the top) for keeping money at home'"
      ]
     },
     "execution_count": 24,
     "metadata": {},
     "output_type": "execute_result"
    }
   ],
   "source": [
    "d2= lesk(word_tokenize('I went to bank to deposit my money.'),'bank')\n",
    "d2.definition()"
   ]
  },
  {
   "cell_type": "code",
   "execution_count": 25,
   "id": "aa6d06c4-15a4-499d-abc6-dfad060ec55d",
   "metadata": {},
   "outputs": [
    {
     "data": {
      "text/plain": [
       "'a slope in the turn of a road or track; the outside is higher than the inside in order to reduce the effects of centrifugal force'"
      ]
     },
     "execution_count": 25,
     "metadata": {},
     "output_type": "execute_result"
    }
   ],
   "source": [
    "d2= lesk(word_tokenize('His home is situated on the bank of river.'),'bank')\n",
    "d2.definition()"
   ]
  },
  {
   "cell_type": "code",
   "execution_count": 27,
   "id": "8b2e9267-b610-4d96-a691-8841a1fee5a5",
   "metadata": {},
   "outputs": [
    {
     "data": {
      "text/plain": [
       "[Synset('electronic_countermeasures.n.01')]"
      ]
     },
     "execution_count": 27,
     "metadata": {},
     "output_type": "execute_result"
    }
   ],
   "source": [
    "a1.hypernyms()"
   ]
  },
  {
   "cell_type": "code",
   "execution_count": 30,
   "id": "65dbf61d-f53c-4059-9b01-28286f661cfd",
   "metadata": {},
   "outputs": [
    {
     "data": {
      "text/plain": [
       "[Synset('jamming.n.01')]"
      ]
     },
     "execution_count": 30,
     "metadata": {},
     "output_type": "execute_result"
    }
   ],
   "source": [
    "a1.tree(rel=None)"
   ]
  },
  {
   "cell_type": "code",
   "execution_count": null,
   "id": "256e5886-9140-4794-860a-6f843c996520",
   "metadata": {},
   "outputs": [],
   "source": []
  }
 ],
 "metadata": {
  "kernelspec": {
   "display_name": "Python 3 (ipykernel)",
   "language": "python",
   "name": "python3"
  },
  "language_info": {
   "codemirror_mode": {
    "name": "ipython",
    "version": 3
   },
   "file_extension": ".py",
   "mimetype": "text/x-python",
   "name": "python",
   "nbconvert_exporter": "python",
   "pygments_lexer": "ipython3",
   "version": "3.10.12"
  }
 },
 "nbformat": 4,
 "nbformat_minor": 5
}
