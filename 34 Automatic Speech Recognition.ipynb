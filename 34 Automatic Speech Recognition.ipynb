{
 "cells": [
  {
   "cell_type": "markdown",
   "id": "1cbdc60b-03fd-409f-9693-491680477b3f",
   "metadata": {},
   "source": [
    "##### Install the libraries"
   ]
  },
  {
   "cell_type": "code",
   "execution_count": null,
   "id": "c059f1d0-778b-4c00-852c-ca875673279d",
   "metadata": {},
   "outputs": [],
   "source": [
    "!pip install SpeechRecognition PyAudio"
   ]
  },
  {
   "cell_type": "markdown",
   "id": "b539907a-532a-4b5b-ae47-476fc1e091c2",
   "metadata": {},
   "source": [
    "##### Import the package"
   ]
  },
  {
   "cell_type": "code",
   "execution_count": null,
   "id": "1c2d3fab-b0d5-47b3-87ca-8824fc28276e",
   "metadata": {},
   "outputs": [],
   "source": [
    "import speech_recognition as sr"
   ]
  },
  {
   "cell_type": "markdown",
   "id": "3cfa1cc4-3a09-436c-b1da-4d76900fbaf0",
   "metadata": {},
   "source": [
    "##### Create the object of microphone"
   ]
  },
  {
   "cell_type": "code",
   "execution_count": null,
   "id": "83fcb07a-a422-4f7c-bd5b-f8f85070f713",
   "metadata": {},
   "outputs": [],
   "source": [
    "r = sr.Recognizer()  "
   ]
  },
  {
   "cell_type": "markdown",
   "id": "4e0779bf-f5f5-4ac0-8962-840c51ffbb89",
   "metadata": {},
   "source": [
    "##### Open Microphone, Recognize and Convert"
   ]
  },
  {
   "cell_type": "code",
   "execution_count": null,
   "id": "6c51a716-63e4-4780-9c3c-6163c05c04fe",
   "metadata": {},
   "outputs": [],
   "source": [
    "with sr.Microphone() as source:\n",
    "    r.adjust_for_ambient_noise(source)\n",
    "    print('Speak:')\n",
    "    audio = r.listen(source)\n",
    "    print('You said:', r.recognize_google(audio))"
   ]
  },
  {
   "cell_type": "code",
   "execution_count": null,
   "id": "7047ca7b-0c4f-4eb5-a2cf-58f5d13401c0",
   "metadata": {},
   "outputs": [],
   "source": []
  }
 ],
 "metadata": {
  "kernelspec": {
   "display_name": "Python 3 (ipykernel)",
   "language": "python",
   "name": "python3"
  },
  "language_info": {
   "codemirror_mode": {
    "name": "ipython",
    "version": 3
   },
   "file_extension": ".py",
   "mimetype": "text/x-python",
   "name": "python",
   "nbconvert_exporter": "python",
   "pygments_lexer": "ipython3",
   "version": "3.10.12"
  }
 },
 "nbformat": 4,
 "nbformat_minor": 5
}
