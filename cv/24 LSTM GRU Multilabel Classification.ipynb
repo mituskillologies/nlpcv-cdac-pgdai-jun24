{
 "cells": [
  {
   "cell_type": "markdown",
   "id": "3c8d41fc-24ca-41e8-835e-18286132cd59",
   "metadata": {},
   "source": [
    "##### Dataset"
   ]
  },
  {
   "cell_type": "code",
   "execution_count": 2,
   "id": "d1f93eb3-9a1f-4bba-be6c-933e8c98cec3",
   "metadata": {},
   "outputs": [],
   "source": [
    "# toxic-comments.csv\n",
    "# Location: https://mitu.co.in/dataset"
   ]
  },
  {
   "cell_type": "markdown",
   "id": "5ccf27fb-776a-4fe8-9350-6360c6460d75",
   "metadata": {},
   "source": [
    "##### Load the libraries"
   ]
  },
  {
   "cell_type": "code",
   "execution_count": 38,
   "id": "7ecc7f1d-d74d-49e1-a219-163a618c44e8",
   "metadata": {},
   "outputs": [],
   "source": [
    "import pandas as pd\n",
    "from tensorflow.keras.preprocessing.text import Tokenizer\n",
    "from tensorflow.keras.preprocessing.sequence import pad_sequences\n",
    "from keras.models import Sequential\n",
    "from keras.layers import Embedding, LSTM, Dense, GRU\n",
    "from sklearn.model_selection import train_test_split\n",
    "import re"
   ]
  },
  {
   "cell_type": "markdown",
   "id": "e71918a6-b0c6-4728-b138-4c07207021d4",
   "metadata": {},
   "source": [
    "##### Read the dataset"
   ]
  },
  {
   "cell_type": "code",
   "execution_count": 7,
   "id": "a389f65c-1cf1-4583-aa99-42daeebe32c2",
   "metadata": {},
   "outputs": [],
   "source": [
    "df = pd.read_csv('toxic-comments.csv')"
   ]
  },
  {
   "cell_type": "code",
   "execution_count": 8,
   "id": "cbe25e6f-cf52-43c3-aa73-c0f6df85c30a",
   "metadata": {},
   "outputs": [
    {
     "data": {
      "text/plain": [
       "(159571, 8)"
      ]
     },
     "execution_count": 8,
     "metadata": {},
     "output_type": "execute_result"
    }
   ],
   "source": [
    "df.shape"
   ]
  },
  {
   "cell_type": "code",
   "execution_count": 9,
   "id": "050fe1e6-357c-45d0-8210-d00cc57324e3",
   "metadata": {},
   "outputs": [
    {
     "data": {
      "text/plain": [
       "Index(['id', 'comment_text', 'toxic', 'severe_toxic', 'obscene', 'threat',\n",
       "       'insult', 'identity_hate'],\n",
       "      dtype='object')"
      ]
     },
     "execution_count": 9,
     "metadata": {},
     "output_type": "execute_result"
    }
   ],
   "source": [
    "df.columns"
   ]
  },
  {
   "cell_type": "markdown",
   "id": "4f4fbf30-4525-4754-b694-6637e6de8634",
   "metadata": {},
   "source": [
    "##### Define target variables (adapt based on your needs)"
   ]
  },
  {
   "cell_type": "code",
   "execution_count": 16,
   "id": "bdc2a6be-e333-492b-88e9-dc959eb07644",
   "metadata": {},
   "outputs": [],
   "source": [
    "toxicities = [\"toxic\", \"severe_toxic\", \"obscene\", \"threat\", \n",
    "              \"insult\", \"identity_hate\"]"
   ]
  },
  {
   "cell_type": "markdown",
   "id": "9796ff68-b6c6-4e96-b3d7-e08bd8836f35",
   "metadata": {},
   "source": [
    "##### Text Cleaning"
   ]
  },
  {
   "cell_type": "code",
   "execution_count": 11,
   "id": "cd01dd44-4016-4fba-8517-04a79671b3a6",
   "metadata": {},
   "outputs": [],
   "source": [
    "def clean_text(text):\n",
    "    text = text.lower()  # lowercase\n",
    "    text = re.sub(r\"[^a-zA-Z0-9]+\", \" \", text)  # remove non-alphanumeric characters\n",
    "    return text"
   ]
  },
  {
   "cell_type": "code",
   "execution_count": 13,
   "id": "9a49bbce-d8b2-4b65-b3e2-8f270a648572",
   "metadata": {},
   "outputs": [],
   "source": [
    "df[\"comment_text\"] = df[\"comment_text\"].apply(clean_text)"
   ]
  },
  {
   "cell_type": "code",
   "execution_count": 14,
   "id": "3ec8c8d7-e55c-496a-9354-fb14ed8ac26e",
   "metadata": {},
   "outputs": [
    {
     "data": {
      "text/html": [
       "<div>\n",
       "<style scoped>\n",
       "    .dataframe tbody tr th:only-of-type {\n",
       "        vertical-align: middle;\n",
       "    }\n",
       "\n",
       "    .dataframe tbody tr th {\n",
       "        vertical-align: top;\n",
       "    }\n",
       "\n",
       "    .dataframe thead th {\n",
       "        text-align: right;\n",
       "    }\n",
       "</style>\n",
       "<table border=\"1\" class=\"dataframe\">\n",
       "  <thead>\n",
       "    <tr style=\"text-align: right;\">\n",
       "      <th></th>\n",
       "      <th>id</th>\n",
       "      <th>comment_text</th>\n",
       "      <th>toxic</th>\n",
       "      <th>severe_toxic</th>\n",
       "      <th>obscene</th>\n",
       "      <th>threat</th>\n",
       "      <th>insult</th>\n",
       "      <th>identity_hate</th>\n",
       "    </tr>\n",
       "  </thead>\n",
       "  <tbody>\n",
       "    <tr>\n",
       "      <th>0</th>\n",
       "      <td>0000997932d777bf</td>\n",
       "      <td>explanation why the edits made under my userna...</td>\n",
       "      <td>0</td>\n",
       "      <td>0</td>\n",
       "      <td>0</td>\n",
       "      <td>0</td>\n",
       "      <td>0</td>\n",
       "      <td>0</td>\n",
       "    </tr>\n",
       "    <tr>\n",
       "      <th>1</th>\n",
       "      <td>000103f0d9cfb60f</td>\n",
       "      <td>d aww he matches this background colour i m se...</td>\n",
       "      <td>0</td>\n",
       "      <td>0</td>\n",
       "      <td>0</td>\n",
       "      <td>0</td>\n",
       "      <td>0</td>\n",
       "      <td>0</td>\n",
       "    </tr>\n",
       "    <tr>\n",
       "      <th>2</th>\n",
       "      <td>000113f07ec002fd</td>\n",
       "      <td>hey man i m really not trying to edit war it s...</td>\n",
       "      <td>0</td>\n",
       "      <td>0</td>\n",
       "      <td>0</td>\n",
       "      <td>0</td>\n",
       "      <td>0</td>\n",
       "      <td>0</td>\n",
       "    </tr>\n",
       "    <tr>\n",
       "      <th>3</th>\n",
       "      <td>0001b41b1c6bb37e</td>\n",
       "      <td>more i can t make any real suggestions on imp...</td>\n",
       "      <td>0</td>\n",
       "      <td>0</td>\n",
       "      <td>0</td>\n",
       "      <td>0</td>\n",
       "      <td>0</td>\n",
       "      <td>0</td>\n",
       "    </tr>\n",
       "    <tr>\n",
       "      <th>4</th>\n",
       "      <td>0001d958c54c6e35</td>\n",
       "      <td>you sir are my hero any chance you remember wh...</td>\n",
       "      <td>0</td>\n",
       "      <td>0</td>\n",
       "      <td>0</td>\n",
       "      <td>0</td>\n",
       "      <td>0</td>\n",
       "      <td>0</td>\n",
       "    </tr>\n",
       "    <tr>\n",
       "      <th>...</th>\n",
       "      <td>...</td>\n",
       "      <td>...</td>\n",
       "      <td>...</td>\n",
       "      <td>...</td>\n",
       "      <td>...</td>\n",
       "      <td>...</td>\n",
       "      <td>...</td>\n",
       "      <td>...</td>\n",
       "    </tr>\n",
       "    <tr>\n",
       "      <th>159566</th>\n",
       "      <td>ffe987279560d7ff</td>\n",
       "      <td>and for the second time of asking when your v...</td>\n",
       "      <td>0</td>\n",
       "      <td>0</td>\n",
       "      <td>0</td>\n",
       "      <td>0</td>\n",
       "      <td>0</td>\n",
       "      <td>0</td>\n",
       "    </tr>\n",
       "    <tr>\n",
       "      <th>159567</th>\n",
       "      <td>ffea4adeee384e90</td>\n",
       "      <td>you should be ashamed of yourself that is a ho...</td>\n",
       "      <td>0</td>\n",
       "      <td>0</td>\n",
       "      <td>0</td>\n",
       "      <td>0</td>\n",
       "      <td>0</td>\n",
       "      <td>0</td>\n",
       "    </tr>\n",
       "    <tr>\n",
       "      <th>159568</th>\n",
       "      <td>ffee36eab5c267c9</td>\n",
       "      <td>spitzer umm theres no actual article for prost...</td>\n",
       "      <td>0</td>\n",
       "      <td>0</td>\n",
       "      <td>0</td>\n",
       "      <td>0</td>\n",
       "      <td>0</td>\n",
       "      <td>0</td>\n",
       "    </tr>\n",
       "    <tr>\n",
       "      <th>159569</th>\n",
       "      <td>fff125370e4aaaf3</td>\n",
       "      <td>and it looks like it was actually you who put ...</td>\n",
       "      <td>0</td>\n",
       "      <td>0</td>\n",
       "      <td>0</td>\n",
       "      <td>0</td>\n",
       "      <td>0</td>\n",
       "      <td>0</td>\n",
       "    </tr>\n",
       "    <tr>\n",
       "      <th>159570</th>\n",
       "      <td>fff46fc426af1f9a</td>\n",
       "      <td>and i really don t think you understand i cam...</td>\n",
       "      <td>0</td>\n",
       "      <td>0</td>\n",
       "      <td>0</td>\n",
       "      <td>0</td>\n",
       "      <td>0</td>\n",
       "      <td>0</td>\n",
       "    </tr>\n",
       "  </tbody>\n",
       "</table>\n",
       "<p>159571 rows × 8 columns</p>\n",
       "</div>"
      ],
      "text/plain": [
       "                      id                                       comment_text  \\\n",
       "0       0000997932d777bf  explanation why the edits made under my userna...   \n",
       "1       000103f0d9cfb60f  d aww he matches this background colour i m se...   \n",
       "2       000113f07ec002fd  hey man i m really not trying to edit war it s...   \n",
       "3       0001b41b1c6bb37e   more i can t make any real suggestions on imp...   \n",
       "4       0001d958c54c6e35  you sir are my hero any chance you remember wh...   \n",
       "...                  ...                                                ...   \n",
       "159566  ffe987279560d7ff   and for the second time of asking when your v...   \n",
       "159567  ffea4adeee384e90  you should be ashamed of yourself that is a ho...   \n",
       "159568  ffee36eab5c267c9  spitzer umm theres no actual article for prost...   \n",
       "159569  fff125370e4aaaf3  and it looks like it was actually you who put ...   \n",
       "159570  fff46fc426af1f9a   and i really don t think you understand i cam...   \n",
       "\n",
       "        toxic  severe_toxic  obscene  threat  insult  identity_hate  \n",
       "0           0             0        0       0       0              0  \n",
       "1           0             0        0       0       0              0  \n",
       "2           0             0        0       0       0              0  \n",
       "3           0             0        0       0       0              0  \n",
       "4           0             0        0       0       0              0  \n",
       "...       ...           ...      ...     ...     ...            ...  \n",
       "159566      0             0        0       0       0              0  \n",
       "159567      0             0        0       0       0              0  \n",
       "159568      0             0        0       0       0              0  \n",
       "159569      0             0        0       0       0              0  \n",
       "159570      0             0        0       0       0              0  \n",
       "\n",
       "[159571 rows x 8 columns]"
      ]
     },
     "execution_count": 14,
     "metadata": {},
     "output_type": "execute_result"
    }
   ],
   "source": [
    "df"
   ]
  },
  {
   "cell_type": "markdown",
   "id": "b7d498e0-b60a-4c57-8979-4ec1d53fd16d",
   "metadata": {},
   "source": [
    "##### Define input and output variables"
   ]
  },
  {
   "cell_type": "code",
   "execution_count": 21,
   "id": "15857e6e-d8e7-44ec-b0e0-76c711bf0f1d",
   "metadata": {},
   "outputs": [],
   "source": [
    "# Feature and target preparation\n",
    "comments = df[\"comment_text\"].tolist()\n",
    "targets = df[toxicities].values"
   ]
  },
  {
   "cell_type": "code",
   "execution_count": 22,
   "id": "90371e55-bc9f-4413-ad38-4171b62c5fd4",
   "metadata": {},
   "outputs": [
    {
     "data": {
      "text/plain": [
       "array([[0, 0, 0, 0, 0, 0],\n",
       "       [0, 0, 0, 0, 0, 0],\n",
       "       [0, 0, 0, 0, 0, 0],\n",
       "       ...,\n",
       "       [0, 0, 0, 0, 0, 0],\n",
       "       [0, 0, 0, 0, 0, 0],\n",
       "       [0, 0, 0, 0, 0, 0]])"
      ]
     },
     "execution_count": 22,
     "metadata": {},
     "output_type": "execute_result"
    }
   ],
   "source": [
    "targets"
   ]
  },
  {
   "cell_type": "code",
   "execution_count": 23,
   "id": "8165f4d6-893a-4983-9bd0-e0045fde884e",
   "metadata": {},
   "outputs": [
    {
     "data": {
      "text/plain": [
       "(159571, 6)"
      ]
     },
     "execution_count": 23,
     "metadata": {},
     "output_type": "execute_result"
    }
   ],
   "source": [
    "targets.shape"
   ]
  },
  {
   "cell_type": "markdown",
   "id": "9ca32d56-8cc7-42be-a279-a01978c7ef51",
   "metadata": {},
   "source": [
    "##### Prepare the data"
   ]
  },
  {
   "cell_type": "code",
   "execution_count": 25,
   "id": "cb24280e-f624-4dda-b32d-17f779d75b96",
   "metadata": {},
   "outputs": [],
   "source": [
    "# Tokenization and padding\n",
    "tokenizer = Tokenizer(num_words=5000)\n",
    "tokenizer.fit_on_texts(comments)\n",
    "sequences = tokenizer.texts_to_sequences(comments)\n",
    "padded_sequences = pad_sequences(sequences, maxlen=200)"
   ]
  },
  {
   "cell_type": "code",
   "execution_count": 26,
   "id": "a273d959-315c-454d-9519-b7b333c19ee9",
   "metadata": {},
   "outputs": [
    {
     "data": {
      "text/plain": [
       "(159571, 200)"
      ]
     },
     "execution_count": 26,
     "metadata": {},
     "output_type": "execute_result"
    }
   ],
   "source": [
    "padded_sequences.shape"
   ]
  },
  {
   "cell_type": "code",
   "execution_count": 27,
   "id": "08aface3-3b49-4865-82d1-cefb88514c36",
   "metadata": {},
   "outputs": [
    {
     "data": {
      "text/plain": [
       "array([[   0,    0,    0, ..., 4539, 2252,  972],\n",
       "       [   0,    0,    0, ...,  980,  577,  185],\n",
       "       [   0,    0,    0, ...,    1,  732,  464],\n",
       "       ...,\n",
       "       [   0,    0,    0, ...,   12, 3463, 4381],\n",
       "       [   0,    0,    0, ...,  153,   36,   10],\n",
       "       [   0,    0,    0, ..., 1614, 2037,   89]], dtype=int32)"
      ]
     },
     "execution_count": 27,
     "metadata": {},
     "output_type": "execute_result"
    }
   ],
   "source": [
    "padded_sequences"
   ]
  },
  {
   "cell_type": "markdown",
   "id": "d6fc891b-0eca-4388-a7f5-d3eb98edd5be",
   "metadata": {},
   "source": [
    "##### Cross-validate"
   ]
  },
  {
   "cell_type": "code",
   "execution_count": 32,
   "id": "24fc9cb1-49ed-463a-a7c6-67d6224105a9",
   "metadata": {},
   "outputs": [],
   "source": [
    "X_train, X_test, y_train, y_test = train_test_split(\n",
    "    padded_sequences, targets, test_size=0.2, random_state=0)"
   ]
  },
  {
   "cell_type": "code",
   "execution_count": 33,
   "id": "2abddd77-afc4-47e7-a68b-3b48994a3a9b",
   "metadata": {},
   "outputs": [
    {
     "data": {
      "text/plain": [
       "(127656, 200)"
      ]
     },
     "execution_count": 33,
     "metadata": {},
     "output_type": "execute_result"
    }
   ],
   "source": [
    "X_train.shape"
   ]
  },
  {
   "cell_type": "code",
   "execution_count": 34,
   "id": "4a914f30-1950-4283-a38c-98e90d1b7a6d",
   "metadata": {},
   "outputs": [
    {
     "data": {
      "text/plain": [
       "(31915, 200)"
      ]
     },
     "execution_count": 34,
     "metadata": {},
     "output_type": "execute_result"
    }
   ],
   "source": [
    "X_test.shape"
   ]
  },
  {
   "cell_type": "markdown",
   "id": "be864d4d-0efe-43f0-b1e6-9ebedc4384d0",
   "metadata": {},
   "source": [
    "##### Build the model"
   ]
  },
  {
   "cell_type": "code",
   "execution_count": 39,
   "id": "35694881-3e2c-4c6a-8730-8cedb82bea58",
   "metadata": {},
   "outputs": [],
   "source": [
    "# Model definition (customize architecture as needed)\n",
    "model = Sequential()\n",
    "model.add(Embedding(5000, 128, input_length=200))\n",
    "model.add(GRU(64))\n",
    "model.add(Dense(6, activation=\"sigmoid\"))  \n",
    "# Multi-label output with sigmoid activation"
   ]
  },
  {
   "cell_type": "code",
   "execution_count": 40,
   "id": "96c41a3a-69ee-4933-aa40-e3a6177ede5a",
   "metadata": {},
   "outputs": [
    {
     "name": "stdout",
     "output_type": "stream",
     "text": [
      "Model: \"sequential_2\"\n",
      "_________________________________________________________________\n",
      " Layer (type)                Output Shape              Param #   \n",
      "=================================================================\n",
      " embedding_2 (Embedding)     (None, 200, 128)          640000    \n",
      "                                                                 \n",
      " gru (GRU)                   (None, 64)                37248     \n",
      "                                                                 \n",
      " dense_1 (Dense)             (None, 6)                 390       \n",
      "                                                                 \n",
      "=================================================================\n",
      "Total params: 677638 (2.58 MB)\n",
      "Trainable params: 677638 (2.58 MB)\n",
      "Non-trainable params: 0 (0.00 Byte)\n",
      "_________________________________________________________________\n"
     ]
    }
   ],
   "source": [
    "model.summary()"
   ]
  },
  {
   "cell_type": "code",
   "execution_count": 42,
   "id": "33e5111c-e7ad-43ae-adb2-62929a3b2009",
   "metadata": {},
   "outputs": [],
   "source": [
    "from keras.utils import plot_model"
   ]
  },
  {
   "cell_type": "code",
   "execution_count": 43,
   "id": "2641c8c3-b061-436b-a2d1-88fca5aeae7f",
   "metadata": {},
   "outputs": [
    {
     "data": {
      "image/png": "[encoded data removed]",
      "text/plain": [
       "<IPython.core.display.Image object>"
      ]
     },
     "execution_count": 43,
     "metadata": {},
     "output_type": "execute_result"
    }
   ],
   "source": [
    "plot_model(model, show_dtype=True, show_layer_activations=True,\n",
    "          show_layer_names=True, show_shapes=True)"
   ]
  },
  {
   "cell_type": "markdown",
   "id": "0c6796e2-dd23-4bcb-8a4e-7fba6a1be6d4",
   "metadata": {},
   "source": [
    "##### Compile the model"
   ]
  },
  {
   "cell_type": "code",
   "execution_count": 45,
   "id": "d6068aae-609a-4587-aacd-ee4eaffb62a5",
   "metadata": {},
   "outputs": [],
   "source": [
    "model.compile(loss=\"binary_crossentropy\", optimizer=\"adam\", metrics=[\"accuracy\"])"
   ]
  },
  {
   "cell_type": "markdown",
   "id": "df518cd5-d882-4612-b073-2cbfe12df338",
   "metadata": {},
   "source": [
    "##### Train the model"
   ]
  },
  {
   "cell_type": "code",
   "execution_count": 48,
   "id": "865454f0-b735-418b-8bc1-60d754422a92",
   "metadata": {},
   "outputs": [
    {
     "name": "stdout",
     "output_type": "stream",
     "text": [
      "Epoch 1/3\n",
      "3990/3990 [==============================] - 272s 68ms/step - loss: 0.0567 - accuracy: 0.9924 - val_loss: 0.0507 - val_accuracy: 0.9920\n",
      "Epoch 2/3\n",
      "3990/3990 [==============================] - 283s 71ms/step - loss: 0.0453 - accuracy: 0.9858 - val_loss: 0.0481 - val_accuracy: 0.9915\n",
      "Epoch 3/3\n",
      "3990/3990 [==============================] - 289s 72ms/step - loss: 0.0401 - accuracy: 0.9696 - val_loss: 0.0499 - val_accuracy: 0.9758\n"
     ]
    },
    {
     "data": {
      "text/plain": [
       "<keras.src.callbacks.History at 0x76ffe61d01f0>"
      ]
     },
     "execution_count": 48,
     "metadata": {},
     "output_type": "execute_result"
    }
   ],
   "source": [
    "model.fit(X_train, y_train, epochs=3, \n",
    "          batch_size=32, validation_data=(X_test, y_test))"
   ]
  },
  {
   "cell_type": "markdown",
   "id": "a15c1ba3-0722-41a2-bc23-8cc6bf8e1c98",
   "metadata": {},
   "source": [
    "##### Predict on new data"
   ]
  },
  {
   "cell_type": "code",
   "execution_count": 76,
   "id": "512cba47-a8b3-4e38-9747-07ab4c1f2edc",
   "metadata": {},
   "outputs": [],
   "source": [
    "new_comment = \"Good to see you back on social media.\""
   ]
  },
  {
   "cell_type": "code",
   "execution_count": 77,
   "id": "dbac148f-c61c-43ed-b369-9253b39f95ce",
   "metadata": {},
   "outputs": [
    {
     "name": "stdout",
     "output_type": "stream",
     "text": [
      "1/1 [==============================] - 0s 57ms/step\n"
     ]
    }
   ],
   "source": [
    "new_sequence = tokenizer.texts_to_sequences([clean_text(new_comment)])\n",
    "padded_new_sequence = pad_sequences(new_sequence, maxlen=200)\n",
    "prediction = model.predict(padded_new_sequence)[0]"
   ]
  },
  {
   "cell_type": "code",
   "execution_count": 78,
   "id": "70f331db-4485-48d7-8f42-dd6cce2db5ee",
   "metadata": {},
   "outputs": [
    {
     "data": {
      "text/plain": [
       "array([0.01931059, 0.00055352, 0.01387728, 0.00058247, 0.0073812 ,\n",
       "       0.00136112], dtype=float32)"
      ]
     },
     "execution_count": 78,
     "metadata": {},
     "output_type": "execute_result"
    }
   ],
   "source": [
    "prediction"
   ]
  },
  {
   "cell_type": "code",
   "execution_count": 79,
   "id": "cc13645b-72b9-4767-90b0-1ce572c1bf0e",
   "metadata": {},
   "outputs": [
    {
     "name": "stdout",
     "output_type": "stream",
     "text": [
      "toxic: 0.02\n",
      "severe_toxic: 0.00\n",
      "obscene: 0.01\n",
      "threat: 0.00\n",
      "insult: 0.01\n",
      "identity_hate: 0.00\n"
     ]
    }
   ],
   "source": [
    "for toxicity, prob in zip(toxicities, prediction):\n",
    "    print(f\"{toxicity}: {prob:.2f}\")"
   ]
  },
  {
   "cell_type": "code",
   "execution_count": null,
   "id": "a3613340-6d6b-4015-a6d9-536b50d9c4d2",
   "metadata": {},
   "outputs": [],
   "source": []
  }
 ],
 "metadata": {
  "kernelspec": {
   "display_name": "Python 3 (ipykernel)",
   "language": "python",
   "name": "python3"
  },
  "language_info": {
   "codemirror_mode": {
    "name": "ipython",
    "version": 3
   },
   "file_extension": ".py",
   "mimetype": "text/x-python",
   "name": "python",
   "nbconvert_exporter": "python",
   "pygments_lexer": "ipython3",
   "version": "3.10.12"
  }
 },
 "nbformat": 4,
 "nbformat_minor": 5
}
