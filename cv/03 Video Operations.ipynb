{
 "cells": [
  {
   "cell_type": "code",
   "execution_count": 1,
   "id": "9a7f0932-5823-49a1-a97c-448d902d499c",
   "metadata": {},
   "outputs": [],
   "source": [
    "import cv2\n",
    "import matplotlib.pyplot as plt"
   ]
  },
  {
   "cell_type": "code",
   "execution_count": 2,
   "id": "0f7253ba-4bc6-4a5a-bd3e-2bc14556327b",
   "metadata": {},
   "outputs": [],
   "source": [
    "# load the video\n",
    "vid = cv2.VideoCapture('images/robots.mp4')"
   ]
  },
  {
   "cell_type": "code",
   "execution_count": 3,
   "id": "641582e5-a938-4833-a9f8-c717e9259b8b",
   "metadata": {},
   "outputs": [],
   "source": [
    "# extract the frame\n",
    "ret, frame = vid.read()"
   ]
  },
  {
   "cell_type": "code",
   "execution_count": 4,
   "id": "25a491a6-0c10-4f07-a93b-ee3ca33fc957",
   "metadata": {},
   "outputs": [
    {
     "data": {
      "text/plain": [
       "True"
      ]
     },
     "execution_count": 4,
     "metadata": {},
     "output_type": "execute_result"
    }
   ],
   "source": [
    "ret"
   ]
  },
  {
   "cell_type": "code",
   "execution_count": 5,
   "id": "32bff881-8c2a-4cba-8876-249d580e5886",
   "metadata": {},
   "outputs": [
    {
     "data": {
      "text/plain": [
       "array([[[ 19,  14,  13],\n",
       "        [ 19,  14,  13],\n",
       "        [ 19,  14,  13],\n",
       "        ...,\n",
       "        [ 48,  43,  23],\n",
       "        [ 48,  43,  23],\n",
       "        [ 48,  43,  23]],\n",
       "\n",
       "       [[ 19,  14,  13],\n",
       "        [ 19,  14,  13],\n",
       "        [ 19,  14,  13],\n",
       "        ...,\n",
       "        [ 48,  43,  23],\n",
       "        [ 48,  43,  23],\n",
       "        [ 48,  43,  23]],\n",
       "\n",
       "       [[ 19,  14,  13],\n",
       "        [ 19,  14,  13],\n",
       "        [ 19,  14,  13],\n",
       "        ...,\n",
       "        [ 48,  43,  23],\n",
       "        [ 48,  43,  23],\n",
       "        [ 48,  43,  23]],\n",
       "\n",
       "       ...,\n",
       "\n",
       "       [[164, 167, 178],\n",
       "        [164, 167, 178],\n",
       "        [164, 167, 178],\n",
       "        ...,\n",
       "        [142, 143, 161],\n",
       "        [142, 143, 161],\n",
       "        [142, 143, 161]],\n",
       "\n",
       "       [[164, 167, 178],\n",
       "        [164, 167, 178],\n",
       "        [164, 167, 178],\n",
       "        ...,\n",
       "        [142, 143, 161],\n",
       "        [142, 143, 161],\n",
       "        [142, 143, 161]],\n",
       "\n",
       "       [[164, 167, 178],\n",
       "        [164, 167, 178],\n",
       "        [164, 167, 178],\n",
       "        ...,\n",
       "        [143, 144, 162],\n",
       "        [143, 144, 162],\n",
       "        [143, 144, 162]]], dtype=uint8)"
      ]
     },
     "execution_count": 5,
     "metadata": {},
     "output_type": "execute_result"
    }
   ],
   "source": [
    "frame"
   ]
  },
  {
   "cell_type": "code",
   "execution_count": 6,
   "id": "8f11480e-b1ae-40e3-9c25-12de243c24d0",
   "metadata": {},
   "outputs": [
    {
     "data": {
      "text/plain": [
       "(640, 640, 3)"
      ]
     },
     "execution_count": 6,
     "metadata": {},
     "output_type": "execute_result"
    }
   ],
   "source": [
    "frame.shape"
   ]
  },
  {
   "cell_type": "code",
   "execution_count": 8,
   "id": "117ce8c1-7ad8-45da-b675-d6802ca3505a",
   "metadata": {},
   "outputs": [
    {
     "name": "stderr",
     "output_type": "stream",
     "text": [
      "Warning: Ignoring XDG_SESSION_TYPE=wayland on Gnome. Use QT_QPA_PLATFORM=wayland to run on Wayland anyway.\n"
     ]
    }
   ],
   "source": [
    "cv2.imshow('First Frame', frame)\n",
    "cv2.waitKey(0)\n",
    "cv2.destroyAllWindows()"
   ]
  },
  {
   "cell_type": "code",
   "execution_count": 9,
   "id": "053ded8b-c7de-4686-aac9-27fa09b713fb",
   "metadata": {},
   "outputs": [],
   "source": [
    "width = int(vid.get(cv2.CAP_PROP_FRAME_WIDTH))\n",
    "height = int(vid.get(cv2.CAP_PROP_FRAME_HEIGHT))\n",
    "frames = int(vid.get(cv2.CAP_PROP_FRAME_COUNT))\n",
    "fps = int(vid.get(cv2.CAP_PROP_FPS))"
   ]
  },
  {
   "cell_type": "code",
   "execution_count": 11,
   "id": "7c7c3b9f-ee35-46e3-bd84-7fcf946874b6",
   "metadata": {},
   "outputs": [
    {
     "name": "stdout",
     "output_type": "stream",
     "text": [
      "Video Resolution: 640 640\n",
      "Total Frames: 1799\n",
      "FPS: 30\n"
     ]
    }
   ],
   "source": [
    "print('Video Resolution:', height,width)\n",
    "print('Total Frames:', frames)\n",
    "print('FPS:', fps)"
   ]
  },
  {
   "cell_type": "code",
   "execution_count": 12,
   "id": "ae6d2962-371d-415b-8deb-d2066761bb2b",
   "metadata": {},
   "outputs": [
    {
     "data": {
      "text/plain": [
       "59.96666666666667"
      ]
     },
     "execution_count": 12,
     "metadata": {},
     "output_type": "execute_result"
    }
   ],
   "source": [
    "frames / fps"
   ]
  },
  {
   "cell_type": "code",
   "execution_count": 14,
   "id": "ac96c20d-ddb6-43c9-b6dc-830046a584ee",
   "metadata": {},
   "outputs": [],
   "source": [
    "vid = cv2.VideoCapture('images/robots.mp4')\n",
    "while True:\n",
    "    ret, frame = vid.read()\n",
    "    if not ret:\n",
    "        break\n",
    "    # Process the frame (e.g., apply filters, detect objects)\n",
    "    cv2.imshow('Video', frame)\n",
    "    if cv2.waitKey(5) == ord('q'):\n",
    "        break\n",
    "cv2.destroyAllWindows()"
   ]
  },
  {
   "cell_type": "markdown",
   "id": "b7d0072a-8218-419c-a15a-e43a6de9276f",
   "metadata": {},
   "source": [
    "##### Capture the images and save"
   ]
  },
  {
   "cell_type": "code",
   "execution_count": 17,
   "id": "8c08c9df-263d-49a5-b00d-153e396303d3",
   "metadata": {},
   "outputs": [],
   "source": [
    "vid = cv2.VideoCapture('images/robots.mp4')\n",
    "\n",
    "# get the first frame and see if successful\n",
    "success, frame = vid.read()\n",
    "# initiate count\n",
    "count = 1\n",
    "# keep extracting frames as long as success is True\n",
    "while success:\n",
    "    cv2.imwrite(f'video_frames/{count}.jpg', frame)\n",
    "    success, frame = vid.read()\n",
    "    count += 1"
   ]
  },
  {
   "cell_type": "markdown",
   "id": "701af191-02e1-4725-8bc9-2b14ff6e3d96",
   "metadata": {},
   "source": [
    "##### Working with timestamp"
   ]
  },
  {
   "cell_type": "code",
   "execution_count": 19,
   "id": "3cff1bd1-58a4-4e7e-908c-3b6782849032",
   "metadata": {},
   "outputs": [
    {
     "name": "stdout",
     "output_type": "stream",
     "text": [
      "0.0 0.0 43.0\n"
     ]
    }
   ],
   "source": [
    "# get frame at a specific timestamp\n",
    "timestamp = '00:00:43.00'\n",
    "hours, minutes, seconds = [float(i) for i in timestamp.split(':')]\n",
    "print(hours, minutes, seconds)"
   ]
  },
  {
   "cell_type": "code",
   "execution_count": 20,
   "id": "743fbd3f-e24f-40bf-9b97-571758a9d6a1",
   "metadata": {},
   "outputs": [
    {
     "data": {
      "text/plain": [
       "['00', '00', '43.00']"
      ]
     },
     "execution_count": 20,
     "metadata": {},
     "output_type": "execute_result"
    }
   ],
   "source": [
    "timestamp = '00:00:43.00'\n",
    "timestamp.split(':')"
   ]
  },
  {
   "cell_type": "code",
   "execution_count": 21,
   "id": "98f9e8cd-010f-4e6b-92ed-c237d5fdd301",
   "metadata": {},
   "outputs": [
    {
     "name": "stdout",
     "output_type": "stream",
     "text": [
      "1799 1290.0\n"
     ]
    }
   ],
   "source": [
    "# get number of frames up to timestamp\n",
    "trigger_frame = hours * 3600 * fps + minutes * 60 * fps + seconds * fps\n",
    "print(frames, trigger_frame)"
   ]
  },
  {
   "cell_type": "code",
   "execution_count": 22,
   "id": "65476e4b-088f-4ecb-acc9-3c29f6371f72",
   "metadata": {},
   "outputs": [],
   "source": [
    "# Go to frame selected by timestamp\n",
    "vid.set(1, trigger_frame)\n",
    "success, frame = vid.read()\n",
    "\n",
    "# save the frame into an image file\n",
    "if success:\n",
    "    cv2.imwrite('screen.jpg', frame)"
   ]
  },
  {
   "cell_type": "markdown",
   "id": "b3407e69-e45b-4f06-bba1-166a3ebff142",
   "metadata": {},
   "source": [
    "##### Capture using Camera"
   ]
  },
  {
   "cell_type": "code",
   "execution_count": 32,
   "id": "685fffd0-9d7b-4f7d-ae95-6b654e29a141",
   "metadata": {},
   "outputs": [
    {
     "data": {
      "text/plain": [
       "True"
      ]
     },
     "execution_count": 32,
     "metadata": {},
     "output_type": "execute_result"
    }
   ],
   "source": [
    "vid = cv2.VideoCapture(0)\n",
    "vid.isOpened()"
   ]
  },
  {
   "cell_type": "code",
   "execution_count": 33,
   "id": "a1bbe43a-8d5b-4ad7-b3cd-f5d6667ede05",
   "metadata": {},
   "outputs": [],
   "source": [
    "success, frame = vid.read()"
   ]
  },
  {
   "cell_type": "code",
   "execution_count": 34,
   "id": "8ba86e7d-4891-4f6b-bda5-744d682d8193",
   "metadata": {},
   "outputs": [],
   "source": [
    "vid.release()"
   ]
  },
  {
   "cell_type": "code",
   "execution_count": 35,
   "id": "b45e0de0-980f-45bd-a0bc-74e833f02596",
   "metadata": {},
   "outputs": [
    {
     "data": {
      "text/plain": [
       "True"
      ]
     },
     "execution_count": 35,
     "metadata": {},
     "output_type": "execute_result"
    }
   ],
   "source": [
    "cv2.imwrite('myimage.jpg', frame)"
   ]
  },
  {
   "cell_type": "code",
   "execution_count": 38,
   "id": "58c3d22c-a8d6-44ee-80a7-a55cb11bf276",
   "metadata": {},
   "outputs": [],
   "source": [
    "cap = cv2.VideoCapture(0)\n",
    "\n",
    "# Read until video is completed \n",
    "while(cap.isOpened()):       \n",
    "# Capture frame-by-frame \n",
    "    ret, frame = cap.read() \n",
    "    if ret == True: \n",
    "        # Display the resulting frame \n",
    "        cv2.imshow('Frame', frame)           \n",
    "        # Press Q on keyboard to exit \n",
    "        if cv2.waitKey(1) & 0xFF == ord('q'): \n",
    "            break  \n",
    "    else: \n",
    "        break  \n",
    "# When everything done, release the video capture object \n",
    "cap.release() \n",
    "  \n",
    "# Closes all the frames \n",
    "cv2.destroyAllWindows() "
   ]
  },
  {
   "cell_type": "code",
   "execution_count": null,
   "id": "b35de58d-bbd3-45ca-ab6c-a1c34f6d107b",
   "metadata": {},
   "outputs": [],
   "source": []
  }
 ],
 "metadata": {
  "kernelspec": {
   "display_name": "Python 3 (ipykernel)",
   "language": "python",
   "name": "python3"
  },
  "language_info": {
   "codemirror_mode": {
    "name": "ipython",
    "version": 3
   },
   "file_extension": ".py",
   "mimetype": "text/x-python",
   "name": "python",
   "nbconvert_exporter": "python",
   "pygments_lexer": "ipython3",
   "version": "3.10.12"
  }
 },
 "nbformat": 4,
 "nbformat_minor": 5
}
