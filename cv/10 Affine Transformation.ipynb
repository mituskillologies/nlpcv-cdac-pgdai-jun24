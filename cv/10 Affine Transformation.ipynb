{
 "cells": [
  {
   "cell_type": "markdown",
   "id": "6daee2e2-b8b3-41cb-be7e-10dd30987f97",
   "metadata": {},
   "source": [
    "##### All transformation on the image / affine transformation"
   ]
  },
  {
   "cell_type": "code",
   "execution_count": 3,
   "id": "c0e9e168-7c98-4559-9b52-96e31eb8c8f7",
   "metadata": {},
   "outputs": [
    {
     "name": "stderr",
     "output_type": "stream",
     "text": [
      "Warning: Ignoring XDG_SESSION_TYPE=wayland on Gnome. Use QT_QPA_PLATFORM=wayland to run on Wayland anyway.\n"
     ]
    }
   ],
   "source": [
    "import cv2\n",
    "import numpy as np\n",
    "\n",
    "img = cv2.imread('images/lenna.png')\n",
    "\n",
    "# Define transformation parameters\n",
    "tx = 50  # Translation along x-axis\n",
    "ty = 100  # Translation along y-axis\n",
    "angle = 45  # Rotation angle in degrees\n",
    "scale = 1.2  # Scaling factor\n",
    "shear_x = 0.3  # Shearing along x-axis\n",
    "shear_y = 0.2  # Shearing along y-axis\n",
    "\n",
    "# Create transformation matrix\n",
    "M = np.float32([[scale * np.cos(np.radians(angle)), shear_x, tx],\n",
    "                [shear_y, scale * np.sin(np.radians(angle)), ty]])\n",
    "\n",
    "# Apply transformation using warpAffine\n",
    "img_affine = cv2.warpAffine(img, M, (512, 512))\n",
    "\n",
    "# Display original and affine transformed images\n",
    "cv2.imshow('Affine Transformed Image', img_affine)\n",
    "cv2.waitKey(0)\n",
    "cv2.destroyAllWindows()"
   ]
  },
  {
   "cell_type": "code",
   "execution_count": 14,
   "id": "9201759a-451b-41e6-ac6e-1b5e3bae2902",
   "metadata": {},
   "outputs": [],
   "source": [
    "# Load the original image\n",
    "original_image = cv2.imread('images/lenna.png')  # Replace 'your_image.png' with your actual image file path\n",
    "\n",
    "# Resize the original image to 200x200\n",
    "resized_image = cv2.resize(original_image, (200, 200))\n",
    "\n",
    "# Create a blank image of size 512x512\n",
    "blank_image = np.zeros((512, 512, 3), dtype=np.uint8)\n",
    "\n",
    "# Translation matrix to translate the image by 100 pixels on both axes\n",
    "translation_matrix = np.float32([[1, 0, 200], [0, 1, 100]])\n",
    "\n",
    "# Translate the resized image\n",
    "translated_image = cv2.warpAffine(resized_image, translation_matrix, (512, 512))\n",
    "\n",
    "# Rotation matrix to rotate the image by 30 degrees around the center (300, 300)\n",
    "rotation_center = (300, 300)\n",
    "rotation_matrix = cv2.getRotationMatrix2D(rotation_center, 30, 1)  # -30 for anticlockwise\n",
    "\n",
    "# Rotate the translated image\n",
    "rotated_image = cv2.warpAffine(translated_image, rotation_matrix, (512, 512))\n",
    "\n",
    "# Overlay the transformed image onto the blank image\n",
    "for i in range(512):\n",
    "    for j in range(512):\n",
    "        if rotated_image[i, j].any():\n",
    "            blank_image[i, j] = rotated_image[i, j]\n",
    "\n",
    "# Save the final image\n",
    "cv2.imwrite('transformed_image.png', blank_image)\n",
    "\n",
    "# Display the final image\n",
    "cv2.imshow('Transformed Image', blank_image)\n",
    "cv2.waitKey(0)\n",
    "cv2.destroyAllWindows()"
   ]
  },
  {
   "cell_type": "code",
   "execution_count": 5,
   "id": "2cd8bd13-9e8a-45aa-be4d-ed2e69287650",
   "metadata": {},
   "outputs": [
    {
     "data": {
      "text/plain": [
       "array([[   0.8660254 ,   -0.5       ,  225.69495625],\n",
       "       [   0.5       ,    0.8660254 , -130.30504375]])"
      ]
     },
     "execution_count": 5,
     "metadata": {},
     "output_type": "execute_result"
    }
   ],
   "source": [
    "rotation_matrix"
   ]
  },
  {
   "cell_type": "code",
   "execution_count": 15,
   "id": "7acc1db6-458a-4a6b-888a-5fda36707a17",
   "metadata": {},
   "outputs": [],
   "source": [
    "import cv2\n",
    "import numpy as np\n",
    "\n",
    "img = cv2.imread('images/lenna.png')\n",
    "\n",
    "# Define transformation parameters\n",
    "tx = 50  # Translation along x-axis\n",
    "ty = 200  # Translation along y-axis\n",
    "angle = -20  # Rotation angle in degrees\n",
    "scale = 200 / 512\n",
    "\n",
    "# Create transformation matrix\n",
    "M = np.float32([[scale * np.cos(np.radians(angle)), -np.sin(np.radians(angle)), tx],\n",
    "                [np.sin(np.radians(angle)), scale * np.cos(np.radians(angle)), ty]])\n",
    "\n",
    "# Apply transformation using warpAffine\n",
    "img_affine = cv2.warpAffine(img, M, (512, 512))\n",
    "\n",
    "# Display original and affine transformed images\n",
    "cv2.imshow('Affine Transformed Image', img_affine)\n",
    "cv2.waitKey(0)\n",
    "cv2.destroyAllWindows()"
   ]
  },
  {
   "cell_type": "code",
   "execution_count": null,
   "id": "c9225c01-e01e-4e73-87ad-b8a93cea39ce",
   "metadata": {},
   "outputs": [],
   "source": []
  }
 ],
 "metadata": {
  "kernelspec": {
   "display_name": "Python 3 (ipykernel)",
   "language": "python",
   "name": "python3"
  },
  "language_info": {
   "codemirror_mode": {
    "name": "ipython",
    "version": 3
   },
   "file_extension": ".py",
   "mimetype": "text/x-python",
   "name": "python",
   "nbconvert_exporter": "python",
   "pygments_lexer": "ipython3",
   "version": "3.10.12"
  }
 },
 "nbformat": 4,
 "nbformat_minor": 5
}
