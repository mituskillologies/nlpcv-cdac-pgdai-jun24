{
 "cells": [
  {
   "cell_type": "code",
   "execution_count": 4,
   "id": "b6bf8d37-2850-4598-9543-e81018e46aea",
   "metadata": {},
   "outputs": [],
   "source": [
    "import cv2\n",
    "\n",
    "# Load the image\n",
    "image = cv2.imread(\"images/lenna.png\")\n",
    "\n",
    "# Flip the image horizontally\n",
    "flipped_horizontal = cv2.flip(image, 0)\n",
    "\n",
    "# Flip the image vertically\n",
    "flipped_vertical = cv2.flip(image, 1)\n",
    "\n",
    "# Flip the image diagonally\n",
    "flipped_diagonal = cv2.flip(image, -1)\n",
    "\n",
    "# Show the flipped images\n",
    "cv2.imshow(\"Original\", image)\n",
    "cv2.imshow(\"Horizontal Flip\", flipped_horizontal)\n",
    "cv2.imshow(\"Vertical Flip\", flipped_vertical)\n",
    "cv2.imshow(\"Diagonal Flip\", flipped_diagonal)\n",
    "cv2.waitKey(0)\n",
    "cv2.destroyAllWindows()"
   ]
  },
  {
   "cell_type": "code",
   "execution_count": null,
   "id": "5f878ff1-4b7f-452e-b2e9-ab65a6bc3acc",
   "metadata": {},
   "outputs": [],
   "source": []
  }
 ],
 "metadata": {
  "kernelspec": {
   "display_name": "Python 3 (ipykernel)",
   "language": "python",
   "name": "python3"
  },
  "language_info": {
   "codemirror_mode": {
    "name": "ipython",
    "version": 3
   },
   "file_extension": ".py",
   "mimetype": "text/x-python",
   "name": "python",
   "nbconvert_exporter": "python",
   "pygments_lexer": "ipython3",
   "version": "3.10.12"
  }
 },
 "nbformat": 4,
 "nbformat_minor": 5
}
