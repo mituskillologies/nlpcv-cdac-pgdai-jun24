{
 "cells": [
  {
   "cell_type": "code",
   "execution_count": 12,
   "id": "db6a3a2b-5842-493c-821c-cd46b5caf716",
   "metadata": {},
   "outputs": [],
   "source": [
    "import cv2\n",
    "import numpy as np\n",
    "\n",
    "# Load the image\n",
    "gray = cv2.imread('images/circle.png', 0)  \n",
    "image = cv2.imread('images/circle.png')  \n",
    "\n",
    "# Convert image to float32\n",
    "gray = np.float32(gray)\n",
    "\n",
    "# Apply the Harris corner detector\n",
    "dst = cv2.cornerHarris(gray, blockSize=2, ksize=3, k=0.04)\n",
    "\n",
    "# Result is dilated for marking the corners, not important\n",
    "dst = cv2.dilate(dst, None)\n",
    "\n",
    "# Threshold for an optimal value, it may vary depending on the image.\n",
    "image[dst > 0.01 * dst.max()] = [0, 0, 255]\n",
    "\n",
    "# Display the result\n",
    "cv2.imshow('Harris Corners', image)\n",
    "cv2.waitKey(0)\n",
    "cv2.destroyAllWindows()"
   ]
  },
  {
   "cell_type": "code",
   "execution_count": 7,
   "id": "267ff382-2033-48c7-b378-e280f2bbce8b",
   "metadata": {},
   "outputs": [
    {
     "data": {
      "text/plain": [
       "array([[0., 0., 0., ..., 0., 0., 0.],\n",
       "       [0., 0., 0., ..., 0., 0., 0.],\n",
       "       [0., 0., 0., ..., 0., 0., 0.],\n",
       "       ...,\n",
       "       [0., 0., 0., ..., 0., 0., 0.],\n",
       "       [0., 0., 0., ..., 0., 0., 0.],\n",
       "       [0., 0., 0., ..., 0., 0., 0.]], dtype=float32)"
      ]
     },
     "execution_count": 7,
     "metadata": {},
     "output_type": "execute_result"
    }
   ],
   "source": [
    "dst"
   ]
  },
  {
   "cell_type": "code",
   "execution_count": 15,
   "id": "28dc328f-5052-4e37-ac08-4290ba1a4f11",
   "metadata": {},
   "outputs": [],
   "source": [
    "import cv2\n",
    "import numpy as np\n",
    "\n",
    "# Load the image\n",
    "gray = cv2.imread('images/lenna.png', 0)  \n",
    "image = cv2.imread('images/lenna.png')  \n",
    "\n",
    "# Convert image to float32\n",
    "gray = np.float32(gray)\n",
    "\n",
    "# Apply the Harris corner detector\n",
    "dst = cv2.cornerHarris(gray, blockSize=2, ksize=3, k=0.04)\n",
    "\n",
    "# Result is dilated for marking the corners, not important\n",
    "dst = cv2.dilate(dst, None)\n",
    "\n",
    "# Threshold for an optimal value, it may vary depending on the image.\n",
    "image[dst > 0.01 * dst.max()] = [0, 0, 255]\n",
    "\n",
    "# Display the result\n",
    "cv2.imshow('Harris Corners', image)\n",
    "cv2.waitKey(0)\n",
    "cv2.destroyAllWindows()"
   ]
  },
  {
   "cell_type": "code",
   "execution_count": null,
   "id": "7c2a4f38-86a7-400a-b4ba-6649a620136b",
   "metadata": {},
   "outputs": [],
   "source": []
  }
 ],
 "metadata": {
  "kernelspec": {
   "display_name": "Python 3 (ipykernel)",
   "language": "python",
   "name": "python3"
  },
  "language_info": {
   "codemirror_mode": {
    "name": "ipython",
    "version": 3
   },
   "file_extension": ".py",
   "mimetype": "text/x-python",
   "name": "python",
   "nbconvert_exporter": "python",
   "pygments_lexer": "ipython3",
   "version": "3.10.12"
  }
 },
 "nbformat": 4,
 "nbformat_minor": 5
}
