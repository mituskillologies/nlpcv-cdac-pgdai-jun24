{
 "cells": [
  {
   "cell_type": "code",
   "execution_count": 10,
   "id": "b6bf8d37-2850-4598-9543-e81018e46aea",
   "metadata": {},
   "outputs": [],
   "source": [
    "import cv2\n",
    "import numpy as np\n",
    "\n",
    "# Load the image\n",
    "image = cv2.imread(\"images/lenna.png\")\n",
    "\n",
    "# Define shearing factors (adjust as needed)\n",
    "shear_x = -0.25  # Shear along x-axis\n",
    "shear_y = 0.45  # Shear along y-axis\n",
    "\n",
    "# Create transformation matrix\n",
    "M = np.array([[1, shear_x, 0],\n",
    "              [shear_y, 1, 0],\n",
    "              [0, 0, 1]])\n",
    "\n",
    "rows, cols, _ = image.shape\n",
    "T = np.float32([[1, 0, 0], [0, 1, 150]]) \n",
    "\n",
    "# We use warpAffine to transform the image using the matrix, T \n",
    "img_translation = cv2.warpAffine(image, T, (int(cols*1.5), int(rows*1.5))) \n",
    "sheared_img = cv2.warpPerspective(img_translation, M, (int(cols*1.5), int(rows*1.5)))\n",
    "\n",
    "cv2.imshow('img', sheared_img)\n",
    "cv2.waitKey(0)\n",
    "cv2.destroyAllWindows()"
   ]
  },
  {
   "cell_type": "code",
   "execution_count": 3,
   "id": "82d1b384-0fdb-4dd3-9472-09e3102fd768",
   "metadata": {},
   "outputs": [
    {
     "data": {
      "text/plain": [
       "array([[1.  , 0.3 , 0.  ],\n",
       "       [0.25, 1.  , 0.  ],\n",
       "       [0.  , 0.  , 1.  ]])"
      ]
     },
     "execution_count": 3,
     "metadata": {},
     "output_type": "execute_result"
    }
   ],
   "source": [
    "M"
   ]
  },
  {
   "cell_type": "code",
   "execution_count": null,
   "id": "9e864588-17ff-497d-ae06-ef7871073ffc",
   "metadata": {},
   "outputs": [],
   "source": [
    "import cv2\n",
    "import numpy as np\n",
    "\n",
    "# Load the image\n",
    "image = cv2.imread(\"images/lenna.png\")\n",
    "\n",
    "# Define shearing factors (adjust as needed)\n",
    "shear_x = -0.25  # Shear along x-axis\n",
    "shear_y = 0.45  # Shear along y-axis\n",
    "\n",
    "# Create transformation matrix\n",
    "M = np.array([[1, shear_x, 0],\n",
    "              [shear_y, 1, 0],\n",
    "              [0, 0, 1]])\n",
    "\n",
    "rows, cols, _ = image.shape\n",
    "T = np.float32([[1, 0, 0], [0, 1, 150]]) \n",
    "\n",
    "# We use warpAffine to transform the image using the matrix, T \n",
    "img_translation = cv2.warpAffine(image, T, (int(cols*1.5), int(rows*1.5))) \n",
    "sheared_img = cv2.warpPerspective(img_translation, M, (int(cols*1.5), int(rows*1.5)))\n",
    "\n",
    "cv2.imshow('img', sheared_img)\n",
    "cv2.waitKey(0)\n",
    "cv2.destroyAllWindows()"
   ]
  }
 ],
 "metadata": {
  "kernelspec": {
   "display_name": "Python 3 (ipykernel)",
   "language": "python",
   "name": "python3"
  },
  "language_info": {
   "codemirror_mode": {
    "name": "ipython",
    "version": 3
   },
   "file_extension": ".py",
   "mimetype": "text/x-python",
   "name": "python",
   "nbconvert_exporter": "python",
   "pygments_lexer": "ipython3",
   "version": "3.10.12"
  }
 },
 "nbformat": 4,
 "nbformat_minor": 5
}
