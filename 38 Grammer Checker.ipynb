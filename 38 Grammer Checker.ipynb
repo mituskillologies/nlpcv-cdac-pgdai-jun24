{
 "cells": [
  {
   "cell_type": "markdown",
   "id": "b05839f5-ac9f-4f53-bc8b-9d0f044f68bb",
   "metadata": {},
   "source": [
    "##### Install the library"
   ]
  },
  {
   "cell_type": "code",
   "execution_count": 2,
   "id": "907b9428-e385-4399-bc6b-a3aa8fa4bc8f",
   "metadata": {},
   "outputs": [
    {
     "name": "stdout",
     "output_type": "stream",
     "text": [
      "Defaulting to user installation because normal site-packages is not writeable\n",
      "Requirement already satisfied: language-tool-python in /home/mitu/.local/lib/python3.10/site-packages (2.7.1)\n",
      "Requirement already satisfied: requests in /usr/local/lib/python3.10/dist-packages (from language-tool-python) (2.31.0)\n",
      "Requirement already satisfied: tqdm in /home/mitu/.local/lib/python3.10/site-packages (from language-tool-python) (4.66.1)\n",
      "Requirement already satisfied: charset-normalizer<4,>=2 in /usr/local/lib/python3.10/dist-packages (from requests->language-tool-python) (3.3.2)\n",
      "Requirement already satisfied: idna<4,>=2.5 in /home/mitu/.local/lib/python3.10/site-packages (from requests->language-tool-python) (2.10)\n",
      "Requirement already satisfied: urllib3<3,>=1.21.1 in /usr/lib/python3/dist-packages (from requests->language-tool-python) (1.26.5)\n",
      "Requirement already satisfied: certifi>=2017.4.17 in /usr/lib/python3/dist-packages (from requests->language-tool-python) (2020.6.20)\n",
      "Note: you may need to restart the kernel to use updated packages.\n"
     ]
    }
   ],
   "source": [
    "pip install language-tool-python"
   ]
  },
  {
   "cell_type": "code",
   "execution_count": 3,
   "id": "ba9ba1aa-9335-4c98-8fb8-289c9ac8375e",
   "metadata": {},
   "outputs": [],
   "source": [
    "import language_tool_python"
   ]
  },
  {
   "cell_type": "markdown",
   "id": "a10bd688-46ca-4318-8b3f-5f292574754b",
   "metadata": {},
   "source": [
    "##### Set the language"
   ]
  },
  {
   "cell_type": "code",
   "execution_count": 5,
   "id": "5b8b4c87-a457-47de-b009-ac4d99564a55",
   "metadata": {},
   "outputs": [],
   "source": [
    "# using the tool  \n",
    "my_tool = language_tool_python.LanguageTool('en-US')"
   ]
  },
  {
   "cell_type": "code",
   "execution_count": 6,
   "id": "30d45fa6-0124-45b8-911d-5a4a4b856068",
   "metadata": {},
   "outputs": [
    {
     "name": "stdout",
     "output_type": "stream",
     "text": [
      "Help on class LanguageTool in module language_tool_python.server:\n",
      "\n",
      "class LanguageTool(builtins.object)\n",
      " |  LanguageTool(language=None, motherTongue=None, remote_server=None, newSpellings=None, new_spellings_persist=True, host=None, config=None)\n",
      " |  \n",
      " |  Main class used for checking text against different rules. \n",
      " |  LanguageTool v2 API documentation: https://languagetool.org/http-api/swagger-ui/#!/default/post_check\n",
      " |  \n",
      " |  Methods defined here:\n",
      " |  \n",
      " |  __del__(self)\n",
      " |  \n",
      " |  __enter__(self)\n",
      " |  \n",
      " |  __exit__(self, exc_type, exc_val, exc_tb)\n",
      " |  \n",
      " |  __init__(self, language=None, motherTongue=None, remote_server=None, newSpellings=None, new_spellings_persist=True, host=None, config=None)\n",
      " |      Initialize self.  See help(type(self)) for accurate signature.\n",
      " |  \n",
      " |  __repr__(self)\n",
      " |      Return repr(self).\n",
      " |  \n",
      " |  check(self, text: str) -> [<class 'language_tool_python.match.Match'>]\n",
      " |      Match text against enabled rules.\n",
      " |  \n",
      " |  close(self)\n",
      " |  \n",
      " |  correct(self, text: str) -> str\n",
      " |      Automatically apply suggestions to the text.\n",
      " |  \n",
      " |  disable_spellchecking(self)\n",
      " |      Disable spell-checking rules.\n",
      " |  \n",
      " |  enable_spellchecking(self)\n",
      " |      Enable spell-checking rules.\n",
      " |  \n",
      " |  ----------------------------------------------------------------------\n",
      " |  Data descriptors defined here:\n",
      " |  \n",
      " |  __dict__\n",
      " |      dictionary for instance variables (if defined)\n",
      " |  \n",
      " |  __weakref__\n",
      " |      list of weak references to the object (if defined)\n",
      " |  \n",
      " |  language\n",
      " |      The language to be used.\n",
      " |  \n",
      " |  motherTongue\n",
      " |      The user's mother tongue or None.\n",
      " |      The mother tongue may also be used as a source language for\n",
      " |      checking bilingual texts.\n",
      " |  \n",
      " |  ----------------------------------------------------------------------\n",
      " |  Data and other attributes defined here:\n",
      " |  \n",
      " |  __annotations__ = {'_consumer_thread': <class 'threading.Thread'>, '_s...\n",
      "\n"
     ]
    }
   ],
   "source": [
    "help(language_tool_python.LanguageTool)"
   ]
  },
  {
   "cell_type": "code",
   "execution_count": 8,
   "id": "2fecd07f-a55a-4c53-8fa1-c0bb08e6e86e",
   "metadata": {},
   "outputs": [],
   "source": [
    "# given text  \n",
    "my_text = \"He have collected a documents. I is there.\""
   ]
  },
  {
   "cell_type": "code",
   "execution_count": 9,
   "id": "d0b7a6b0-34b4-4809-aa2d-3be06a319ced",
   "metadata": {},
   "outputs": [
    {
     "name": "stdout",
     "output_type": "stream",
     "text": [
      "Offset 3, length 4, Rule ID: HE_VERB_AGR\n",
      "Message: The pronoun ‘He’ is usually used with a third-person or a past tense verb.\n",
      "Suggestion: has; had\n",
      "He have collected a documents. I is there.\n",
      "   ^^^^\n",
      "Offset 18, length 11, Rule ID: A_NNS\n",
      "Message: The plural noun “documents” cannot be used with the article “a”. Did you mean “a document” or “documents”?\n",
      "Suggestion: a document; documents\n",
      "He have collected a documents. I is there.\n",
      "                  ^^^^^^^^^^^\n",
      "Offset 33, length 2, Rule ID: PERS_PRONOUN_AGREEMENT\n",
      "Message: Did you mean “am” or “will be”?\n",
      "Suggestion: am; will be\n",
      "He have collected a documents. I is there.\n",
      "                                 ^^\n"
     ]
    }
   ],
   "source": [
    "# getting the matches\n",
    "my_matches = my_tool.check(my_text)\n",
    "\n",
    "# printing matches\n",
    "for m in my_matches:\n",
    "  print(m)"
   ]
  },
  {
   "cell_type": "code",
   "execution_count": 10,
   "id": "b65ef423-2b5a-4b84-9277-3c718fde2963",
   "metadata": {},
   "outputs": [
    {
     "data": {
      "text/plain": [
       "'He has collected a document. I am there.'"
      ]
     },
     "execution_count": 10,
     "metadata": {},
     "output_type": "execute_result"
    }
   ],
   "source": [
    "my_tool.correct(my_text)"
   ]
  },
  {
   "cell_type": "code",
   "execution_count": 11,
   "id": "0ca45adc-1998-408c-925c-3890ba791fdb",
   "metadata": {},
   "outputs": [
    {
     "data": {
      "text/plain": [
       "<LanguageTag \"en-US\">"
      ]
     },
     "execution_count": 11,
     "metadata": {},
     "output_type": "execute_result"
    }
   ],
   "source": [
    "my_tool.language"
   ]
  },
  {
   "cell_type": "code",
   "execution_count": null,
   "id": "466081ab-5d00-4056-a80b-0ed9c1d6db9e",
   "metadata": {},
   "outputs": [],
   "source": []
  }
 ],
 "metadata": {
  "kernelspec": {
   "display_name": "Python 3 (ipykernel)",
   "language": "python",
   "name": "python3"
  },
  "language_info": {
   "codemirror_mode": {
    "name": "ipython",
    "version": 3
   },
   "file_extension": ".py",
   "mimetype": "text/x-python",
   "name": "python",
   "nbconvert_exporter": "python",
   "pygments_lexer": "ipython3",
   "version": "3.10.12"
  }
 },
 "nbformat": 4,
 "nbformat_minor": 5
}
