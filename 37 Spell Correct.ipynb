{
 "cells": [
  {
   "cell_type": "code",
   "execution_count": 1,
   "id": "705862b1-2738-411d-b69f-1369a812e251",
   "metadata": {},
   "outputs": [],
   "source": [
    "from textblob import TextBlob"
   ]
  },
  {
   "cell_type": "code",
   "execution_count": 2,
   "id": "d97fd2df-020a-4c9d-a7a2-8a320f68dca2",
   "metadata": {},
   "outputs": [],
   "source": [
    "text = TextBlob('computar')"
   ]
  },
  {
   "cell_type": "code",
   "execution_count": 4,
   "id": "6a975726-3286-4b88-b52a-8dd8e49c12e9",
   "metadata": {},
   "outputs": [
    {
     "data": {
      "text/plain": [
       "TextBlob(\"computer\")"
      ]
     },
     "execution_count": 4,
     "metadata": {},
     "output_type": "execute_result"
    }
   ],
   "source": [
    "text.correct()"
   ]
  },
  {
   "cell_type": "code",
   "execution_count": 5,
   "id": "4e7e21d3-3b4f-4259-8e9c-3d39bfab38ae",
   "metadata": {},
   "outputs": [
    {
     "data": {
      "text/plain": [
       "TextBlob(\"computer\")"
      ]
     },
     "execution_count": 5,
     "metadata": {},
     "output_type": "execute_result"
    }
   ],
   "source": [
    "text = TextBlob('komputar')\n",
    "text.correct()"
   ]
  },
  {
   "cell_type": "code",
   "execution_count": 10,
   "id": "66fe3b60-2da1-419d-9a6b-2b87ca7ffb86",
   "metadata": {},
   "outputs": [],
   "source": [
    "sent = 'They were plyaing onn the geround.'"
   ]
  },
  {
   "cell_type": "code",
   "execution_count": 11,
   "id": "e6dec665-24a4-48df-b817-89160e9dd962",
   "metadata": {},
   "outputs": [
    {
     "data": {
      "text/plain": [
       "TextBlob(\"They were playing on the ground.\")"
      ]
     },
     "execution_count": 11,
     "metadata": {},
     "output_type": "execute_result"
    }
   ],
   "source": [
    "TextBlob(sent).correct()"
   ]
  },
  {
   "cell_type": "code",
   "execution_count": 12,
   "id": "a0b7ac9f-3dd8-4b6b-aaac-af9f369213f4",
   "metadata": {},
   "outputs": [],
   "source": [
    "sent = TextBlob(sent)"
   ]
  },
  {
   "cell_type": "code",
   "execution_count": 13,
   "id": "51952826-2dc7-417f-81a0-823901db035c",
   "metadata": {},
   "outputs": [
    {
     "data": {
      "text/plain": [
       "WordList(['They', 'were', 'plyaing', 'onn', 'the', 'geround', '.'])"
      ]
     },
     "execution_count": 13,
     "metadata": {},
     "output_type": "execute_result"
    }
   ],
   "source": [
    "sent.tokenize()"
   ]
  },
  {
   "cell_type": "code",
   "execution_count": 17,
   "id": "0ff49b64-d906-421a-9f67-53a1b738830c",
   "metadata": {},
   "outputs": [
    {
     "data": {
      "text/plain": [
       "[('They', 'PRP'),\n",
       " ('were', 'VBD'),\n",
       " ('playing', 'VBG'),\n",
       " ('on', 'IN'),\n",
       " ('the', 'DT'),\n",
       " ('ground', 'NN')]"
      ]
     },
     "execution_count": 17,
     "metadata": {},
     "output_type": "execute_result"
    }
   ],
   "source": [
    "sent.correct().pos_tags"
   ]
  },
  {
   "cell_type": "code",
   "execution_count": null,
   "id": "e7a11c48-58e4-420d-9178-69e11d0e998e",
   "metadata": {},
   "outputs": [],
   "source": []
  }
 ],
 "metadata": {
  "kernelspec": {
   "display_name": "Python 3 (ipykernel)",
   "language": "python",
   "name": "python3"
  },
  "language_info": {
   "codemirror_mode": {
    "name": "ipython",
    "version": 3
   },
   "file_extension": ".py",
   "mimetype": "text/x-python",
   "name": "python",
   "nbconvert_exporter": "python",
   "pygments_lexer": "ipython3",
   "version": "3.10.12"
  }
 },
 "nbformat": 4,
 "nbformat_minor": 5
}
