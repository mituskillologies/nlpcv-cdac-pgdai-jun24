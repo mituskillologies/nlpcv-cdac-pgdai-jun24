{
 "cells": [
  {
   "cell_type": "code",
   "execution_count": 1,
   "id": "c9f9fa95-1ecd-4360-8823-943613d958e5",
   "metadata": {},
   "outputs": [],
   "source": [
    "from nltk.corpus import wordnet"
   ]
  },
  {
   "cell_type": "code",
   "execution_count": 2,
   "id": "7ae60168-84cd-489b-96f0-f3fbfcd319c4",
   "metadata": {},
   "outputs": [
    {
     "data": {
      "text/plain": [
       "<WordNetCorpusReader in '/home/mitu/nltk_data/corpora/wordnet.zip/wordnet/'>"
      ]
     },
     "execution_count": 2,
     "metadata": {},
     "output_type": "execute_result"
    }
   ],
   "source": [
    "wordnet"
   ]
  },
  {
   "cell_type": "code",
   "execution_count": 3,
   "id": "713e3bd8-f719-48e1-86d8-6858ca0f3c2d",
   "metadata": {},
   "outputs": [],
   "source": [
    "x = wordnet.synsets('create')"
   ]
  },
  {
   "cell_type": "code",
   "execution_count": 4,
   "id": "132cfdb6-d9c8-45df-8652-b7d522a0b7ae",
   "metadata": {},
   "outputs": [
    {
     "data": {
      "text/plain": [
       "[Synset('make.v.03'),\n",
       " Synset('create.v.02'),\n",
       " Synset('create.v.03'),\n",
       " Synset('create.v.04'),\n",
       " Synset('create.v.05'),\n",
       " Synset('produce.v.02')]"
      ]
     },
     "execution_count": 4,
     "metadata": {},
     "output_type": "execute_result"
    }
   ],
   "source": [
    "x"
   ]
  },
  {
   "cell_type": "code",
   "execution_count": 5,
   "id": "6c48f8fa-e3ca-43d9-bc7d-a9f8b2d3b77d",
   "metadata": {},
   "outputs": [],
   "source": [
    "synonyms = set()\n",
    "\n",
    "for word in wordnet.synsets('create'):\n",
    "    synonyms.add(word.lemmas()[0].name())"
   ]
  },
  {
   "cell_type": "code",
   "execution_count": 6,
   "id": "11157224-cddf-4d9b-a9b3-1cb35315fd54",
   "metadata": {},
   "outputs": [
    {
     "data": {
      "text/plain": [
       "{'create', 'make', 'produce'}"
      ]
     },
     "execution_count": 6,
     "metadata": {},
     "output_type": "execute_result"
    }
   ],
   "source": [
    "synonyms"
   ]
  },
  {
   "cell_type": "code",
   "execution_count": 12,
   "id": "c5d33094-c0f4-4187-8558-e19297a40599",
   "metadata": {},
   "outputs": [
    {
     "name": "stdout",
     "output_type": "stream",
     "text": [
      "good\n",
      "good\n",
      "good\n",
      "commodity\n",
      "good\n",
      "full\n",
      "good\n",
      "estimable\n",
      "beneficial\n",
      "good\n",
      "good\n",
      "adept\n",
      "good\n",
      "dear\n",
      "dependable\n",
      "good\n",
      "good\n",
      "effective\n",
      "good\n",
      "good\n",
      "good\n",
      "good\n",
      "good\n",
      "good\n",
      "good\n",
      "well\n",
      "thoroughly\n"
     ]
    }
   ],
   "source": [
    "synonyms = set()\n",
    "\n",
    "for word in wordnet.synsets('good'):\n",
    "    print(word.lemmas()[0].name())"
   ]
  },
  {
   "cell_type": "markdown",
   "id": "e4ff1f55-3ed6-47e7-b099-d5bb44123049",
   "metadata": {},
   "source": [
    "##### Definition and Examples"
   ]
  },
  {
   "cell_type": "code",
   "execution_count": 14,
   "id": "7186f01f-2b38-4c46-a3d3-6b1b7401cbcf",
   "metadata": {},
   "outputs": [
    {
     "name": "stdout",
     "output_type": "stream",
     "text": [
      "Word and Type : post.n.01\n",
      "Synonym : post\n",
      "The meaning of the word : the position where someone (as a guard or sentry) stands or is assigned to stand\n",
      "Example : ['a soldier manned the entrance post', 'a sentry station']\n"
     ]
    }
   ],
   "source": [
    "synset = wordnet.synsets(\"post\")\n",
    "print('Word and Type : ' + synset[0].name())\n",
    "print('Synonym : ' + synset[0].lemmas()[0].name())\n",
    "print('The meaning of the word : ' + synset[0].definition())\n",
    "print('Example : ' + str(synset[0].examples()))"
   ]
  },
  {
   "cell_type": "code",
   "execution_count": 15,
   "id": "c2d0ac23-1302-4227-9902-30c554ca2f59",
   "metadata": {},
   "outputs": [
    {
     "name": "stdout",
     "output_type": "stream",
     "text": [
      "Word and Type : position.n.06\n",
      "Synonym : position\n",
      "The meaning of the word : a job in an organization\n",
      "Example : ['he occupied a post in the treasury']\n"
     ]
    }
   ],
   "source": [
    "synset = wordnet.synsets(\"post\")\n",
    "print('Word and Type : ' + synset[2].name())\n",
    "print('Synonym : ' + synset[2].lemmas()[0].name())\n",
    "print('The meaning of the word : ' + synset[2].definition())\n",
    "print('Example : ' + str(synset[2].examples()))"
   ]
  },
  {
   "cell_type": "code",
   "execution_count": 17,
   "id": "5058ae7c-dccc-4fe0-ad40-a6e80f2df490",
   "metadata": {},
   "outputs": [
    {
     "name": "stdout",
     "output_type": "stream",
     "text": [
      "Word and Type : post.n.09\n",
      "Synonym : post\n",
      "The meaning of the word : a pole or stake set up to mark something (as the start or end of a race track)\n",
      "Example : ['a pair of posts marked the goal', 'the corner of the lot was indicated by a stake']\n"
     ]
    }
   ],
   "source": [
    "synset = wordnet.synsets(\"post\")\n",
    "print('Word and Type : ' + synset[8].name())\n",
    "print('Synonym : ' + synset[8].lemmas()[0].name())\n",
    "print('The meaning of the word : ' + synset[8].definition())\n",
    "print('Example : ' + str(synset[8].examples()))"
   ]
  },
  {
   "cell_type": "code",
   "execution_count": 18,
   "id": "8793ccc2-e0cb-4637-9f74-59826c47b9c9",
   "metadata": {},
   "outputs": [
    {
     "data": {
      "text/plain": [
       "[Synset('post.n.01'),\n",
       " Synset('military_post.n.01'),\n",
       " Synset('position.n.06'),\n",
       " Synset('post.n.04'),\n",
       " Synset('post.n.05'),\n",
       " Synset('post.n.06'),\n",
       " Synset('post.n.07'),\n",
       " Synset('mail.n.04'),\n",
       " Synset('post.n.09'),\n",
       " Synset('mail.n.02'),\n",
       " Synset('post.n.11'),\n",
       " Synset('post.v.01'),\n",
       " Synset('post.v.02'),\n",
       " Synset('post.v.03'),\n",
       " Synset('station.v.01'),\n",
       " Synset('post.v.05'),\n",
       " Synset('post.v.06'),\n",
       " Synset('post.v.07'),\n",
       " Synset('post.v.08'),\n",
       " Synset('stake.v.03'),\n",
       " Synset('post.v.10'),\n",
       " Synset('mail.v.02'),\n",
       " Synset('post.v.12')]"
      ]
     },
     "execution_count": 18,
     "metadata": {},
     "output_type": "execute_result"
    }
   ],
   "source": [
    "synset"
   ]
  },
  {
   "cell_type": "code",
   "execution_count": 19,
   "id": "50b178fc-d8ab-49e1-9a62-f335295bb173",
   "metadata": {},
   "outputs": [
    {
     "name": "stdout",
     "output_type": "stream",
     "text": [
      "sound.n.01\n",
      "sound.n.02\n",
      "sound.n.03\n",
      "sound.n.04\n",
      "audio.n.01\n",
      "phone.n.02\n",
      "strait.n.01\n",
      "sound.n.08\n",
      "sound.v.01\n",
      "sound.v.02\n",
      "sound.v.03\n",
      "sound.v.04\n",
      "voice.v.02\n",
      "sound.v.06\n",
      "fathom.v.02\n",
      "sound.a.01\n",
      "healthy.s.04\n",
      "sound.a.03\n",
      "good.s.17\n",
      "reasoned.s.01\n",
      "legal.s.03\n",
      "sound.s.07\n",
      "heavy.s.26\n",
      "sound.s.09\n"
     ]
    }
   ],
   "source": [
    "for word in wordnet.synsets('sound'):\n",
    "    print(word.name())"
   ]
  },
  {
   "cell_type": "code",
   "execution_count": 20,
   "id": "023496df-baae-4f6a-9320-09f46e9d1bed",
   "metadata": {},
   "outputs": [
    {
     "name": "stdout",
     "output_type": "stream",
     "text": [
      "sound.v.01\n",
      "sound.v.02\n",
      "sound.v.03\n",
      "sound.v.04\n",
      "voice.v.02\n",
      "sound.v.06\n",
      "fathom.v.02\n"
     ]
    }
   ],
   "source": [
    "for word in wordnet.synsets('sound', pos='v'):\n",
    "    print(word.name())"
   ]
  },
  {
   "cell_type": "code",
   "execution_count": 21,
   "id": "3bcfa2fd-9fcb-43d3-82d6-9bf2483e7c75",
   "metadata": {},
   "outputs": [
    {
     "name": "stdout",
     "output_type": "stream",
     "text": [
      "sound.n.01\n",
      "sound.n.02\n",
      "sound.n.03\n",
      "sound.n.04\n",
      "audio.n.01\n",
      "phone.n.02\n",
      "strait.n.01\n",
      "sound.n.08\n"
     ]
    }
   ],
   "source": [
    "for word in wordnet.synsets('sound', pos='n'):\n",
    "    print(word.name())"
   ]
  },
  {
   "cell_type": "code",
   "execution_count": 22,
   "id": "553ae7ed-6037-4101-9c3d-b077982fa907",
   "metadata": {},
   "outputs": [],
   "source": [
    "# Read a word from user and print all meanings of it.\n",
    "# Read a word from user and print all noun meanings of it."
   ]
  },
  {
   "cell_type": "code",
   "execution_count": 25,
   "id": "175e43ab-2429-45dd-8a81-ec450310758e",
   "metadata": {},
   "outputs": [
    {
     "name": "stdin",
     "output_type": "stream",
     "text": [
      "Enter a word:  bat\n"
     ]
    },
    {
     "name": "stdout",
     "output_type": "stream",
     "text": [
      "Meanings of bat are:\n",
      "bat.n.01 --> nocturnal mouselike mammal with forelimbs modified to form membranous wings and anatomical adaptations for echolocation by which they navigate\n",
      "bat.n.02 --> (baseball) a turn trying to get a hit\n",
      "squash_racket.n.01 --> a small racket with a long handle used for playing squash\n",
      "cricket_bat.n.01 --> the club used in playing cricket\n",
      "bat.n.05 --> a club used for hitting a ball in various games\n",
      "bat.v.01 --> strike with, or as if with a baseball bat\n",
      "bat.v.02 --> wink briefly\n",
      "bat.v.03 --> have a turn at bat\n",
      "bat.v.04 --> use a bat\n",
      "cream.v.02 --> beat thoroughly and conclusively in a competition or fight\n"
     ]
    }
   ],
   "source": [
    "word = input('Enter a word: ')\n",
    "print('Meanings of',word,'are:')\n",
    "\n",
    "for word in wordnet.synsets(word):\n",
    "        print(word.name(),\"-->\", word.definition())"
   ]
  },
  {
   "cell_type": "code",
   "execution_count": 27,
   "id": "0d7cb811-98ea-42e6-ace1-9d84c8478b95",
   "metadata": {},
   "outputs": [
    {
     "name": "stdin",
     "output_type": "stream",
     "text": [
      "Enter a word:  region\n"
     ]
    },
    {
     "name": "stdout",
     "output_type": "stream",
     "text": [
      "Meanings of region are:\n",
      "region.n.01 --> the extended spatial location of something\n",
      "area.n.03 --> a part of an animal that has a special function or is supplied by a given artery or nerve\n",
      "region.n.03 --> a large indefinite location on the surface of the Earth\n",
      "region.n.04 --> the approximate amount of something (usually used prepositionally as in `in the region of')\n",
      "region.n.05 --> a knowledge domain that you are interested in or are communicating about\n"
     ]
    }
   ],
   "source": [
    "word = input('Enter a word: ')\n",
    "print('Meanings of',word,'are:')\n",
    "\n",
    "for word in wordnet.synsets(word, pos='n'):\n",
    "        print(word.name(),\"-->\", word.definition())"
   ]
  },
  {
   "cell_type": "markdown",
   "id": "6d9932af-a9df-4b0f-b112-400a3ecb0cd1",
   "metadata": {},
   "source": [
    "##### Extract specific pos from word"
   ]
  },
  {
   "cell_type": "code",
   "execution_count": 29,
   "id": "aa333a85-a5b4-4239-8e4a-58aea9befb23",
   "metadata": {},
   "outputs": [],
   "source": [
    "verbs = set()\n",
    "nouns = set()\n",
    "adj = set()\n",
    "for word in wordnet.synsets('sound', pos='n'):\n",
    "    nouns.add(word.lemmas()[0].name())\n",
    "for word in wordnet.synsets('sound', pos='v'):\n",
    "    verbs.add(word.lemmas()[0].name())\n",
    "for word in wordnet.synsets('sound', pos='a'):\n",
    "    adj.add(word.lemmas()[0].name())"
   ]
  },
  {
   "cell_type": "code",
   "execution_count": 30,
   "id": "1c14a9e4-f58a-4e87-9c1e-02717e926770",
   "metadata": {},
   "outputs": [
    {
     "data": {
      "text/plain": [
       "{'fathom', 'sound', 'voice'}"
      ]
     },
     "execution_count": 30,
     "metadata": {},
     "output_type": "execute_result"
    }
   ],
   "source": [
    "verbs"
   ]
  },
  {
   "cell_type": "code",
   "execution_count": 31,
   "id": "5f94f2f2-330b-4a69-b3c5-20cc15cb6ca9",
   "metadata": {},
   "outputs": [
    {
     "data": {
      "text/plain": [
       "{'audio', 'phone', 'sound', 'strait'}"
      ]
     },
     "execution_count": 31,
     "metadata": {},
     "output_type": "execute_result"
    }
   ],
   "source": [
    "nouns"
   ]
  },
  {
   "cell_type": "code",
   "execution_count": 32,
   "id": "dac6a661-5cb0-4e4f-90a7-0954ecccde17",
   "metadata": {},
   "outputs": [
    {
     "data": {
      "text/plain": [
       "{'good', 'healthy', 'heavy', 'legal', 'reasoned', 'sound'}"
      ]
     },
     "execution_count": 32,
     "metadata": {},
     "output_type": "execute_result"
    }
   ],
   "source": [
    "adj"
   ]
  },
  {
   "cell_type": "markdown",
   "id": "3ff1a52b-ea89-4e8d-9d1a-07b5669be679",
   "metadata": {},
   "source": [
    "##### Find antonyms of word"
   ]
  },
  {
   "cell_type": "code",
   "execution_count": 38,
   "id": "58fd663d-71a8-4ad3-9544-be1a3ec5024d",
   "metadata": {},
   "outputs": [
    {
     "name": "stdout",
     "output_type": "stream",
     "text": [
      "Antonyms:  {'actual', 'impossible'}\n"
     ]
    }
   ],
   "source": [
    "ant = set()\n",
    "for synset in wordnet.synsets(\"possible\"):\n",
    "    for lemma in synset.lemmas():\n",
    "        if lemma.antonyms():    #When antonyms are available, add them into the list\n",
    "            ant.add(lemma.antonyms()[0].name())\n",
    "print('Antonyms: ', ant)"
   ]
  },
  {
   "cell_type": "markdown",
   "id": "b33120e3-c5d6-4b6e-9cf9-22165e728317",
   "metadata": {},
   "source": [
    "##### Extract the hypernyms"
   ]
  },
  {
   "cell_type": "code",
   "execution_count": 54,
   "id": "768b5b01-d662-4550-aa73-f6f56644ae46",
   "metadata": {},
   "outputs": [
    {
     "name": "stdout",
     "output_type": "stream",
     "text": [
      "soil is a hyponym of dirtiness.n.01\n",
      "soil is a hyponym of earth.n.02\n",
      "soil is a hyponym of object.n.01\n",
      "soil is a hyponym of geographical_area.n.01\n",
      "soil is a hyponym of change.v.01\n"
     ]
    }
   ],
   "source": [
    "word = \"soil\"\n",
    "synsets = wordnet.synsets(word)\n",
    "\n",
    "for synset in synsets:\n",
    "  # Get hypernyms (parent concepts)\n",
    "  hypernyms = synset.hypernyms()\n",
    "  # Check if there are any hypernyms\n",
    "  if hypernyms:\n",
    "    # Print hypernyms (can access name property for text)\n",
    "    for hypernym in hypernyms:\n",
    "      print(f\"{word} is a hyponym of {hypernym.name()}\")"
   ]
  },
  {
   "cell_type": "markdown",
   "id": "008d5419-3c68-407a-9f38-50c878657f7c",
   "metadata": {},
   "source": [
    "##### Extract the meronyms"
   ]
  },
  {
   "cell_type": "code",
   "execution_count": 64,
   "id": "4224da2d-a871-4c83-90d0-b43f22337002",
   "metadata": {},
   "outputs": [
    {
     "name": "stdout",
     "output_type": "stream",
     "text": [
      "car has a meronym: accelerator.n.01\n",
      "car has a meronym: air_bag.n.01\n",
      "car has a meronym: auto_accessory.n.01\n",
      "car has a meronym: automobile_engine.n.01\n",
      "car has a meronym: automobile_horn.n.01\n",
      "car has a meronym: buffer.n.06\n",
      "car has a meronym: bumper.n.02\n",
      "car has a meronym: car_door.n.01\n",
      "car has a meronym: car_mirror.n.01\n",
      "car has a meronym: car_seat.n.01\n",
      "car has a meronym: car_window.n.01\n",
      "car has a meronym: fender.n.01\n",
      "car has a meronym: first_gear.n.01\n",
      "car has a meronym: floorboard.n.02\n",
      "car has a meronym: gasoline_engine.n.01\n",
      "car has a meronym: glove_compartment.n.01\n",
      "car has a meronym: grille.n.02\n",
      "car has a meronym: high_gear.n.01\n",
      "car has a meronym: hood.n.09\n",
      "car has a meronym: luggage_compartment.n.01\n",
      "car has a meronym: rear_window.n.01\n",
      "car has a meronym: reverse.n.02\n",
      "car has a meronym: roof.n.02\n",
      "car has a meronym: running_board.n.01\n",
      "car has a meronym: stabilizer_bar.n.01\n",
      "car has a meronym: sunroof.n.01\n",
      "car has a meronym: tail_fin.n.02\n",
      "car has a meronym: third_gear.n.01\n",
      "car has a meronym: window.n.02\n",
      "car has a meronym: suspension.n.05\n"
     ]
    }
   ],
   "source": [
    "word = 'car'\n",
    "synsets = wordnet.synsets(word)\n",
    "\n",
    "for synset in synsets:\n",
    "  # Get member meronyms (component parts)\n",
    "  meronyms = synset.part_meronyms()\n",
    "  \n",
    "  # Check if there are any meronyms\n",
    "  if meronyms:\n",
    "    # Print meronyms (can access name property for text)\n",
    "    for meronym in meronyms:\n",
    "      print(f\"{word} has a meronym: {meronym.name()}\")"
   ]
  },
  {
   "cell_type": "code",
   "execution_count": null,
   "id": "16985e1f-a6c8-4766-baf8-f6161454030f",
   "metadata": {},
   "outputs": [],
   "source": []
  }
 ],
 "metadata": {
  "kernelspec": {
   "display_name": "Python 3 (ipykernel)",
   "language": "python",
   "name": "python3"
  },
  "language_info": {
   "codemirror_mode": {
    "name": "ipython",
    "version": 3
   },
   "file_extension": ".py",
   "mimetype": "text/x-python",
   "name": "python",
   "nbconvert_exporter": "python",
   "pygments_lexer": "ipython3",
   "version": "3.10.12"
  }
 },
 "nbformat": 4,
 "nbformat_minor": 5
}
