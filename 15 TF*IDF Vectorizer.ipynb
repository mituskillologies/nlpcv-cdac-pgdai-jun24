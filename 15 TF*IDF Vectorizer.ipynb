{
 "cells": [
  {
   "cell_type": "code",
   "execution_count": 8,
   "id": "a10fdab0-db46-494e-b6d7-5877838ab025",
   "metadata": {},
   "outputs": [],
   "source": [
    "import pandas as pd"
   ]
  },
  {
   "cell_type": "code",
   "execution_count": 1,
   "id": "f017a457-b671-4113-a52e-6c12723db24d",
   "metadata": {},
   "outputs": [],
   "source": [
    "sentence_1=\"It is a good practice for us.\"\n",
    "sentence_2=\"It was also good to know about it.\""
   ]
  },
  {
   "cell_type": "code",
   "execution_count": 3,
   "id": "d105db82-77c3-4097-9b24-f9f19b83e7b3",
   "metadata": {},
   "outputs": [],
   "source": [
    "# import the class\n",
    "from sklearn.feature_extraction.text import TfidfVectorizer"
   ]
  },
  {
   "cell_type": "code",
   "execution_count": 4,
   "id": "1a28f47e-d9ff-4069-a784-e07cf5232e16",
   "metadata": {},
   "outputs": [],
   "source": [
    "# create the object\n",
    "tfidf = TfidfVectorizer()"
   ]
  },
  {
   "cell_type": "code",
   "execution_count": 5,
   "id": "a447b3a6-8986-49d8-b2dc-2154481116bd",
   "metadata": {},
   "outputs": [],
   "source": [
    "# apply the task\n",
    "new_data = tfidf.fit_transform([sentence_1, sentence_2])"
   ]
  },
  {
   "cell_type": "code",
   "execution_count": 6,
   "id": "44f108e0-2ffb-4834-b9c9-982d0775ed91",
   "metadata": {},
   "outputs": [
    {
     "data": {
      "text/plain": [
       "<2x11 sparse matrix of type '<class 'numpy.float64'>'\n",
       "\twith 13 stored elements in Compressed Sparse Row format>"
      ]
     },
     "execution_count": 6,
     "metadata": {},
     "output_type": "execute_result"
    }
   ],
   "source": [
    "new_data"
   ]
  },
  {
   "cell_type": "code",
   "execution_count": 7,
   "id": "362fa742-ce43-4257-b434-b24b196cee87",
   "metadata": {},
   "outputs": [
    {
     "data": {
      "text/plain": [
       "array([[0.        , 0.        , 0.44665616, 0.31779954, 0.44665616,\n",
       "        0.31779954, 0.        , 0.44665616, 0.        , 0.44665616,\n",
       "        0.        ],\n",
       "       [0.36439074, 0.36439074, 0.        , 0.25926702, 0.        ,\n",
       "        0.51853403, 0.36439074, 0.        , 0.36439074, 0.        ,\n",
       "        0.36439074]])"
      ]
     },
     "execution_count": 7,
     "metadata": {},
     "output_type": "execute_result"
    }
   ],
   "source": [
    "new_data.toarray()"
   ]
  },
  {
   "cell_type": "code",
   "execution_count": 14,
   "id": "4ea4322a-c82b-4875-b9ae-a4089a86f1e5",
   "metadata": {},
   "outputs": [],
   "source": [
    "df = pd.DataFrame(data=new_data.toarray(), columns=tfidf.get_feature_names_out())"
   ]
  },
  {
   "cell_type": "code",
   "execution_count": 15,
   "id": "a813e955-d9e9-4490-81d0-9443d45754fe",
   "metadata": {},
   "outputs": [
    {
     "data": {
      "text/html": [
       "<div>\n",
       "<style scoped>\n",
       "    .dataframe tbody tr th:only-of-type {\n",
       "        vertical-align: middle;\n",
       "    }\n",
       "\n",
       "    .dataframe tbody tr th {\n",
       "        vertical-align: top;\n",
       "    }\n",
       "\n",
       "    .dataframe thead th {\n",
       "        text-align: right;\n",
       "    }\n",
       "</style>\n",
       "<table border=\"1\" class=\"dataframe\">\n",
       "  <thead>\n",
       "    <tr style=\"text-align: right;\">\n",
       "      <th></th>\n",
       "      <th>about</th>\n",
       "      <th>also</th>\n",
       "      <th>for</th>\n",
       "      <th>good</th>\n",
       "      <th>is</th>\n",
       "      <th>it</th>\n",
       "      <th>know</th>\n",
       "      <th>practice</th>\n",
       "      <th>to</th>\n",
       "      <th>us</th>\n",
       "      <th>was</th>\n",
       "    </tr>\n",
       "  </thead>\n",
       "  <tbody>\n",
       "    <tr>\n",
       "      <th>0</th>\n",
       "      <td>0.000000</td>\n",
       "      <td>0.000000</td>\n",
       "      <td>0.446656</td>\n",
       "      <td>0.317800</td>\n",
       "      <td>0.446656</td>\n",
       "      <td>0.317800</td>\n",
       "      <td>0.000000</td>\n",
       "      <td>0.446656</td>\n",
       "      <td>0.000000</td>\n",
       "      <td>0.446656</td>\n",
       "      <td>0.000000</td>\n",
       "    </tr>\n",
       "    <tr>\n",
       "      <th>1</th>\n",
       "      <td>0.364391</td>\n",
       "      <td>0.364391</td>\n",
       "      <td>0.000000</td>\n",
       "      <td>0.259267</td>\n",
       "      <td>0.000000</td>\n",
       "      <td>0.518534</td>\n",
       "      <td>0.364391</td>\n",
       "      <td>0.000000</td>\n",
       "      <td>0.364391</td>\n",
       "      <td>0.000000</td>\n",
       "      <td>0.364391</td>\n",
       "    </tr>\n",
       "  </tbody>\n",
       "</table>\n",
       "</div>"
      ],
      "text/plain": [
       "      about      also       for      good        is        it      know  \\\n",
       "0  0.000000  0.000000  0.446656  0.317800  0.446656  0.317800  0.000000   \n",
       "1  0.364391  0.364391  0.000000  0.259267  0.000000  0.518534  0.364391   \n",
       "\n",
       "   practice        to        us       was  \n",
       "0  0.446656  0.000000  0.446656  0.000000  \n",
       "1  0.000000  0.364391  0.000000  0.364391  "
      ]
     },
     "execution_count": 15,
     "metadata": {},
     "output_type": "execute_result"
    }
   ],
   "source": [
    "df"
   ]
  },
  {
   "cell_type": "code",
   "execution_count": null,
   "id": "975f0730-728e-4734-87e1-a672c0e8f2c8",
   "metadata": {},
   "outputs": [],
   "source": []
  }
 ],
 "metadata": {
  "kernelspec": {
   "display_name": "Python 3 (ipykernel)",
   "language": "python",
   "name": "python3"
  },
  "language_info": {
   "codemirror_mode": {
    "name": "ipython",
    "version": 3
   },
   "file_extension": ".py",
   "mimetype": "text/x-python",
   "name": "python",
   "nbconvert_exporter": "python",
   "pygments_lexer": "ipython3",
   "version": "3.10.12"
  }
 },
 "nbformat": 4,
 "nbformat_minor": 5
}
