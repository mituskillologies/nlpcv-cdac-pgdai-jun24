{
 "cells": [
  {
   "cell_type": "markdown",
   "id": "7bca2fb4-4aef-4162-9fbd-c05a758f9b17",
   "metadata": {},
   "source": [
    "##### Import the libraries"
   ]
  },
  {
   "cell_type": "code",
   "execution_count": 3,
   "id": "8c865e7a-36ac-4c69-b309-95f9a56ee1ca",
   "metadata": {},
   "outputs": [],
   "source": [
    "import numpy as np\n",
    "import keras\n",
    "from keras.preprocessing.text import Tokenizer\n",
    "from keras.preprocessing.sequence import pad_sequences\n",
    "from keras.models import Sequential\n",
    "from keras.layers import Embedding, LSTM, Dense"
   ]
  },
  {
   "cell_type": "markdown",
   "id": "6f45d2cb-a87d-4754-9bf3-b982d751cd91",
   "metadata": {},
   "source": [
    "##### Define the source data"
   ]
  },
  {
   "cell_type": "code",
   "execution_count": 5,
   "id": "57a15224-7a34-418e-a993-9ee86aee77f3",
   "metadata": {},
   "outputs": [],
   "source": [
    "# Sample text data\n",
    "text_data = [\n",
    "    \"hello how are you\",\n",
    "    \"hello how have you been\",\n",
    "    \"hi there\",\n",
    "    \"good morning\",\n",
    "    \"good night\",\n",
    "    \"have a nice day\",\n",
    "    \"how is it going\",\n",
    "    \"how have you been\",\n",
    "    \"nice to meet you\",\n",
    "    \"thank you\"\n",
    "]"
   ]
  },
  {
   "cell_type": "markdown",
   "id": "a4915a58-c49c-427b-9ff3-f576527e9314",
   "metadata": {},
   "source": [
    "##### Create the tokenizer"
   ]
  },
  {
   "cell_type": "code",
   "execution_count": 53,
   "id": "5a8dda33-d828-47d1-827b-15fa999469e6",
   "metadata": {},
   "outputs": [],
   "source": [
    "# Prepare the tokenizer\n",
    "tokenizer = Tokenizer()\n",
    "tokenizer.fit_on_texts(text_data)\n",
    "total_words = len(tokenizer.word_index) + 1"
   ]
  },
  {
   "cell_type": "code",
   "execution_count": 54,
   "id": "837a2af3-fc3e-4d9c-b461-2443eb4801d0",
   "metadata": {},
   "outputs": [
    {
     "data": {
      "text/plain": [
       "21"
      ]
     },
     "execution_count": 54,
     "metadata": {},
     "output_type": "execute_result"
    }
   ],
   "source": [
    "total_words"
   ]
  },
  {
   "cell_type": "code",
   "execution_count": 55,
   "id": "e3e01b68-5f6d-4b65-8912-74ff9ddab53a",
   "metadata": {},
   "outputs": [
    {
     "data": {
      "text/plain": [
       "{'you': 1,\n",
       " 'how': 2,\n",
       " 'have': 3,\n",
       " 'hello': 4,\n",
       " 'been': 5,\n",
       " 'good': 6,\n",
       " 'nice': 7,\n",
       " 'are': 8,\n",
       " 'hi': 9,\n",
       " 'there': 10,\n",
       " 'morning': 11,\n",
       " 'night': 12,\n",
       " 'a': 13,\n",
       " 'day': 14,\n",
       " 'is': 15,\n",
       " 'it': 16,\n",
       " 'going': 17,\n",
       " 'to': 18,\n",
       " 'meet': 19,\n",
       " 'thank': 20}"
      ]
     },
     "execution_count": 55,
     "metadata": {},
     "output_type": "execute_result"
    }
   ],
   "source": [
    "tokenizer.word_index"
   ]
  },
  {
   "cell_type": "markdown",
   "id": "dcdcc539-2dd2-4bd2-a513-dc237d767363",
   "metadata": {},
   "source": [
    "##### Prepare the input sequences"
   ]
  },
  {
   "cell_type": "code",
   "execution_count": 56,
   "id": "c7fb127d-5bbf-4a04-9274-673aa3fccd86",
   "metadata": {},
   "outputs": [],
   "source": [
    "# Create sequences of words\n",
    "input_sequences = []\n",
    "for line in text_data:\n",
    "    token_list = tokenizer.texts_to_sequences([line])[0]\n",
    "    for i in range(1, len(token_list)):\n",
    "        n_gram_sequence = token_list[:i+1]\n",
    "        input_sequences.append(n_gram_sequence)"
   ]
  },
  {
   "cell_type": "code",
   "execution_count": 57,
   "id": "2551950b-083c-47de-ac16-9f41a9cd9413",
   "metadata": {},
   "outputs": [
    {
     "data": {
      "text/plain": [
       "[[4, 2],\n",
       " [4, 2, 8],\n",
       " [4, 2, 8, 1],\n",
       " [4, 2],\n",
       " [4, 2, 3],\n",
       " [4, 2, 3, 1],\n",
       " [4, 2, 3, 1, 5],\n",
       " [9, 10],\n",
       " [6, 11],\n",
       " [6, 12],\n",
       " [3, 13],\n",
       " [3, 13, 7],\n",
       " [3, 13, 7, 14],\n",
       " [2, 15],\n",
       " [2, 15, 16],\n",
       " [2, 15, 16, 17],\n",
       " [2, 3],\n",
       " [2, 3, 1],\n",
       " [2, 3, 1, 5],\n",
       " [7, 18],\n",
       " [7, 18, 19],\n",
       " [7, 18, 19, 1],\n",
       " [20, 1]]"
      ]
     },
     "execution_count": 57,
     "metadata": {},
     "output_type": "execute_result"
    }
   ],
   "source": [
    "input_sequences"
   ]
  },
  {
   "cell_type": "markdown",
   "id": "34f7a3cd-671d-40f3-8704-436023989439",
   "metadata": {},
   "source": [
    "##### Padding of sequences"
   ]
  },
  {
   "cell_type": "code",
   "execution_count": 58,
   "id": "651e566a-890a-41cc-a4eb-32f0dbc215f0",
   "metadata": {},
   "outputs": [],
   "source": [
    "max_sequence_len = max([len(x) for x in input_sequences])\n",
    "input_sequences = pad_sequences(\n",
    "    input_sequences, maxlen=max_sequence_len, padding='pre')"
   ]
  },
  {
   "cell_type": "code",
   "execution_count": 59,
   "id": "8febb092-f699-4df6-869f-068931617efc",
   "metadata": {},
   "outputs": [
    {
     "data": {
      "text/plain": [
       "array([[ 0,  0,  0,  4,  2],\n",
       "       [ 0,  0,  4,  2,  8],\n",
       "       [ 0,  4,  2,  8,  1],\n",
       "       [ 0,  0,  0,  4,  2],\n",
       "       [ 0,  0,  4,  2,  3],\n",
       "       [ 0,  4,  2,  3,  1],\n",
       "       [ 4,  2,  3,  1,  5],\n",
       "       [ 0,  0,  0,  9, 10],\n",
       "       [ 0,  0,  0,  6, 11],\n",
       "       [ 0,  0,  0,  6, 12],\n",
       "       [ 0,  0,  0,  3, 13],\n",
       "       [ 0,  0,  3, 13,  7],\n",
       "       [ 0,  3, 13,  7, 14],\n",
       "       [ 0,  0,  0,  2, 15],\n",
       "       [ 0,  0,  2, 15, 16],\n",
       "       [ 0,  2, 15, 16, 17],\n",
       "       [ 0,  0,  0,  2,  3],\n",
       "       [ 0,  0,  2,  3,  1],\n",
       "       [ 0,  2,  3,  1,  5],\n",
       "       [ 0,  0,  0,  7, 18],\n",
       "       [ 0,  0,  7, 18, 19],\n",
       "       [ 0,  7, 18, 19,  1],\n",
       "       [ 0,  0,  0, 20,  1]], dtype=int32)"
      ]
     },
     "execution_count": 59,
     "metadata": {},
     "output_type": "execute_result"
    }
   ],
   "source": [
    "input_sequences"
   ]
  },
  {
   "cell_type": "code",
   "execution_count": 60,
   "id": "f0e911bd-29ac-4d44-a0fb-c01a004d62f1",
   "metadata": {},
   "outputs": [
    {
     "data": {
      "text/plain": [
       "(23, 5)"
      ]
     },
     "execution_count": 60,
     "metadata": {},
     "output_type": "execute_result"
    }
   ],
   "source": [
    "input_sequences.shape"
   ]
  },
  {
   "cell_type": "markdown",
   "id": "9ad3d1dc-320c-4236-af69-c83cdbf7018b",
   "metadata": {},
   "source": [
    "##### Split into features and labels"
   ]
  },
  {
   "cell_type": "code",
   "execution_count": 63,
   "id": "8daeaf5b-b372-4cb0-aac1-77e67666f077",
   "metadata": {},
   "outputs": [],
   "source": [
    "input_sequences = np.array(input_sequences)\n",
    "X, y = input_sequences[:,:-1], input_sequences[:,-1]\n",
    "y = keras.utils.to_categorical(y, num_classes=total_words)"
   ]
  },
  {
   "cell_type": "code",
   "execution_count": 64,
   "id": "2e997ce7-622c-4e18-8ceb-d5a7f5b8153f",
   "metadata": {},
   "outputs": [
    {
     "data": {
      "text/plain": [
       "array([ 2,  8,  1,  2,  3,  1,  5, 10, 11, 12, 13,  7, 14, 15, 16, 17,  3,\n",
       "        1,  5, 18, 19,  1,  1], dtype=int32)"
      ]
     },
     "execution_count": 64,
     "metadata": {},
     "output_type": "execute_result"
    }
   ],
   "source": [
    "input_sequences[:,-1]"
   ]
  },
  {
   "cell_type": "code",
   "execution_count": 65,
   "id": "d98a148b-b7f5-49c6-8dcb-512dfb9189cb",
   "metadata": {},
   "outputs": [
    {
     "data": {
      "text/plain": [
       "array([[0., 0., 1., 0., 0., 0., 0., 0., 0., 0., 0., 0., 0., 0., 0., 0.,\n",
       "        0., 0., 0., 0., 0.],\n",
       "       [0., 0., 0., 0., 0., 0., 0., 0., 1., 0., 0., 0., 0., 0., 0., 0.,\n",
       "        0., 0., 0., 0., 0.],\n",
       "       [0., 1., 0., 0., 0., 0., 0., 0., 0., 0., 0., 0., 0., 0., 0., 0.,\n",
       "        0., 0., 0., 0., 0.],\n",
       "       [0., 0., 1., 0., 0., 0., 0., 0., 0., 0., 0., 0., 0., 0., 0., 0.,\n",
       "        0., 0., 0., 0., 0.],\n",
       "       [0., 0., 0., 1., 0., 0., 0., 0., 0., 0., 0., 0., 0., 0., 0., 0.,\n",
       "        0., 0., 0., 0., 0.],\n",
       "       [0., 1., 0., 0., 0., 0., 0., 0., 0., 0., 0., 0., 0., 0., 0., 0.,\n",
       "        0., 0., 0., 0., 0.],\n",
       "       [0., 0., 0., 0., 0., 1., 0., 0., 0., 0., 0., 0., 0., 0., 0., 0.,\n",
       "        0., 0., 0., 0., 0.],\n",
       "       [0., 0., 0., 0., 0., 0., 0., 0., 0., 0., 1., 0., 0., 0., 0., 0.,\n",
       "        0., 0., 0., 0., 0.],\n",
       "       [0., 0., 0., 0., 0., 0., 0., 0., 0., 0., 0., 1., 0., 0., 0., 0.,\n",
       "        0., 0., 0., 0., 0.],\n",
       "       [0., 0., 0., 0., 0., 0., 0., 0., 0., 0., 0., 0., 1., 0., 0., 0.,\n",
       "        0., 0., 0., 0., 0.],\n",
       "       [0., 0., 0., 0., 0., 0., 0., 0., 0., 0., 0., 0., 0., 1., 0., 0.,\n",
       "        0., 0., 0., 0., 0.],\n",
       "       [0., 0., 0., 0., 0., 0., 0., 1., 0., 0., 0., 0., 0., 0., 0., 0.,\n",
       "        0., 0., 0., 0., 0.],\n",
       "       [0., 0., 0., 0., 0., 0., 0., 0., 0., 0., 0., 0., 0., 0., 1., 0.,\n",
       "        0., 0., 0., 0., 0.],\n",
       "       [0., 0., 0., 0., 0., 0., 0., 0., 0., 0., 0., 0., 0., 0., 0., 1.,\n",
       "        0., 0., 0., 0., 0.],\n",
       "       [0., 0., 0., 0., 0., 0., 0., 0., 0., 0., 0., 0., 0., 0., 0., 0.,\n",
       "        1., 0., 0., 0., 0.],\n",
       "       [0., 0., 0., 0., 0., 0., 0., 0., 0., 0., 0., 0., 0., 0., 0., 0.,\n",
       "        0., 1., 0., 0., 0.],\n",
       "       [0., 0., 0., 1., 0., 0., 0., 0., 0., 0., 0., 0., 0., 0., 0., 0.,\n",
       "        0., 0., 0., 0., 0.],\n",
       "       [0., 1., 0., 0., 0., 0., 0., 0., 0., 0., 0., 0., 0., 0., 0., 0.,\n",
       "        0., 0., 0., 0., 0.],\n",
       "       [0., 0., 0., 0., 0., 1., 0., 0., 0., 0., 0., 0., 0., 0., 0., 0.,\n",
       "        0., 0., 0., 0., 0.],\n",
       "       [0., 0., 0., 0., 0., 0., 0., 0., 0., 0., 0., 0., 0., 0., 0., 0.,\n",
       "        0., 0., 1., 0., 0.],\n",
       "       [0., 0., 0., 0., 0., 0., 0., 0., 0., 0., 0., 0., 0., 0., 0., 0.,\n",
       "        0., 0., 0., 1., 0.],\n",
       "       [0., 1., 0., 0., 0., 0., 0., 0., 0., 0., 0., 0., 0., 0., 0., 0.,\n",
       "        0., 0., 0., 0., 0.],\n",
       "       [0., 1., 0., 0., 0., 0., 0., 0., 0., 0., 0., 0., 0., 0., 0., 0.,\n",
       "        0., 0., 0., 0., 0.]], dtype=float32)"
      ]
     },
     "execution_count": 65,
     "metadata": {},
     "output_type": "execute_result"
    }
   ],
   "source": [
    "y"
   ]
  },
  {
   "cell_type": "markdown",
   "id": "073f637c-e450-4d9b-a22c-636644962d64",
   "metadata": {},
   "source": [
    "##### Build the model"
   ]
  },
  {
   "cell_type": "code",
   "execution_count": 67,
   "id": "adb7e8f8-4fd0-40e8-a164-8debd266ec6c",
   "metadata": {},
   "outputs": [],
   "source": [
    "# Build the RNN model\n",
    "model = Sequential()\n",
    "model.add(Embedding(total_words, 10, input_length=max_sequence_len-1))\n",
    "model.add(LSTM(150, return_sequences=True))\n",
    "model.add(LSTM(100))\n",
    "model.add(Dense(total_words, activation='softmax'))"
   ]
  },
  {
   "cell_type": "code",
   "execution_count": 68,
   "id": "d64159db-4cf3-4872-917c-c4392fbb4ad8",
   "metadata": {},
   "outputs": [
    {
     "name": "stdout",
     "output_type": "stream",
     "text": [
      "Model: \"sequential\"\n",
      "_________________________________________________________________\n",
      " Layer (type)                Output Shape              Param #   \n",
      "=================================================================\n",
      " embedding (Embedding)       (None, 4, 10)             210       \n",
      "                                                                 \n",
      " lstm (LSTM)                 (None, 4, 150)            96600     \n",
      "                                                                 \n",
      " lstm_1 (LSTM)               (None, 100)               100400    \n",
      "                                                                 \n",
      " dense (Dense)               (None, 21)                2121      \n",
      "                                                                 \n",
      "=================================================================\n",
      "Total params: 199331 (778.64 KB)\n",
      "Trainable params: 199331 (778.64 KB)\n",
      "Non-trainable params: 0 (0.00 Byte)\n",
      "_________________________________________________________________\n"
     ]
    }
   ],
   "source": [
    "model.summary()"
   ]
  },
  {
   "cell_type": "markdown",
   "id": "a65bfd3e-4ddb-4952-beb9-394e195c9df7",
   "metadata": {},
   "source": [
    "##### Compile the model"
   ]
  },
  {
   "cell_type": "code",
   "execution_count": 69,
   "id": "5a0e77aa-457c-40a4-a202-912043ce4781",
   "metadata": {},
   "outputs": [],
   "source": [
    "model.compile(loss='categorical_crossentropy', \n",
    "              optimizer='adam', metrics=['accuracy'])"
   ]
  },
  {
   "cell_type": "markdown",
   "id": "dde5f8a8-13b4-4509-a82f-5e122ae97211",
   "metadata": {},
   "source": [
    "##### Train the model"
   ]
  },
  {
   "cell_type": "code",
   "execution_count": 74,
   "id": "c3ae50e3-b93e-4b05-a024-4a792eab640d",
   "metadata": {},
   "outputs": [
    {
     "name": "stdout",
     "output_type": "stream",
     "text": [
      "Epoch 1/200\n",
      "23/23 [==============================] - 0s 6ms/step - loss: 0.1899 - accuracy: 0.8696\n",
      "Epoch 2/200\n",
      "23/23 [==============================] - 0s 8ms/step - loss: 0.1907 - accuracy: 0.7826\n",
      "Epoch 3/200\n",
      "23/23 [==============================] - 0s 8ms/step - loss: 0.1929 - accuracy: 0.7826\n",
      "Epoch 4/200\n",
      "23/23 [==============================] - 0s 7ms/step - loss: 0.1903 - accuracy: 0.8261\n",
      "Epoch 5/200\n",
      "23/23 [==============================] - 0s 7ms/step - loss: 0.1945 - accuracy: 0.8696\n",
      "Epoch 6/200\n",
      "23/23 [==============================] - 0s 8ms/step - loss: 0.1916 - accuracy: 0.8261\n",
      "Epoch 7/200\n",
      "23/23 [==============================] - 0s 7ms/step - loss: 0.1980 - accuracy: 0.8261\n",
      "Epoch 8/200\n",
      "23/23 [==============================] - 0s 8ms/step - loss: 0.1906 - accuracy: 0.7826\n",
      "Epoch 9/200\n",
      "23/23 [==============================] - 0s 7ms/step - loss: 0.1885 - accuracy: 0.8261\n",
      "Epoch 10/200\n",
      "23/23 [==============================] - 0s 6ms/step - loss: 0.1868 - accuracy: 0.8261\n",
      "Epoch 11/200\n",
      "23/23 [==============================] - 0s 8ms/step - loss: 0.1932 - accuracy: 0.8261\n",
      "Epoch 12/200\n",
      "23/23 [==============================] - 0s 5ms/step - loss: 0.1940 - accuracy: 0.7826\n",
      "Epoch 13/200\n",
      "23/23 [==============================] - 0s 8ms/step - loss: 0.1940 - accuracy: 0.7826\n",
      "Epoch 14/200\n",
      "23/23 [==============================] - 0s 6ms/step - loss: 0.1871 - accuracy: 0.8696\n",
      "Epoch 15/200\n",
      "23/23 [==============================] - 0s 6ms/step - loss: 0.1921 - accuracy: 0.8696\n",
      "Epoch 16/200\n",
      "23/23 [==============================] - 0s 7ms/step - loss: 0.2057 - accuracy: 0.8261\n",
      "Epoch 17/200\n",
      "23/23 [==============================] - 0s 7ms/step - loss: 0.1890 - accuracy: 0.8696\n",
      "Epoch 18/200\n",
      "23/23 [==============================] - 0s 6ms/step - loss: 0.1945 - accuracy: 0.7391\n",
      "Epoch 19/200\n",
      "23/23 [==============================] - 0s 6ms/step - loss: 0.1960 - accuracy: 0.7391\n",
      "Epoch 20/200\n",
      "23/23 [==============================] - 0s 7ms/step - loss: 0.1898 - accuracy: 0.8696\n",
      "Epoch 21/200\n",
      "23/23 [==============================] - 0s 6ms/step - loss: 0.1948 - accuracy: 0.8696\n",
      "Epoch 22/200\n",
      "23/23 [==============================] - 0s 7ms/step - loss: 0.1902 - accuracy: 0.8261\n",
      "Epoch 23/200\n",
      "23/23 [==============================] - 0s 6ms/step - loss: 0.1958 - accuracy: 0.7391\n",
      "Epoch 24/200\n",
      "23/23 [==============================] - 0s 5ms/step - loss: 0.1993 - accuracy: 0.8261\n",
      "Epoch 25/200\n",
      "23/23 [==============================] - 0s 5ms/step - loss: 0.1927 - accuracy: 0.8261\n",
      "Epoch 26/200\n",
      "23/23 [==============================] - 0s 6ms/step - loss: 0.1996 - accuracy: 0.8261\n",
      "Epoch 27/200\n",
      "23/23 [==============================] - 0s 5ms/step - loss: 0.1896 - accuracy: 0.8696\n",
      "Epoch 28/200\n",
      "23/23 [==============================] - 0s 5ms/step - loss: 0.1939 - accuracy: 0.7826\n",
      "Epoch 29/200\n",
      "23/23 [==============================] - 0s 4ms/step - loss: 0.1911 - accuracy: 0.8261\n",
      "Epoch 30/200\n",
      "23/23 [==============================] - 0s 5ms/step - loss: 0.1862 - accuracy: 0.8261\n",
      "Epoch 31/200\n",
      "23/23 [==============================] - 0s 4ms/step - loss: 0.1971 - accuracy: 0.8261\n",
      "Epoch 32/200\n",
      "23/23 [==============================] - 0s 6ms/step - loss: 0.1914 - accuracy: 0.7826\n",
      "Epoch 33/200\n",
      "23/23 [==============================] - 0s 7ms/step - loss: 0.1908 - accuracy: 0.8696\n",
      "Epoch 34/200\n",
      "23/23 [==============================] - 0s 4ms/step - loss: 0.1938 - accuracy: 0.7826\n",
      "Epoch 35/200\n",
      "23/23 [==============================] - 0s 5ms/step - loss: 0.1953 - accuracy: 0.7826\n",
      "Epoch 36/200\n",
      "23/23 [==============================] - 0s 4ms/step - loss: 0.1908 - accuracy: 0.7826\n",
      "Epoch 37/200\n",
      "23/23 [==============================] - 0s 5ms/step - loss: 0.1884 - accuracy: 0.7826\n",
      "Epoch 38/200\n",
      "23/23 [==============================] - 0s 5ms/step - loss: 0.1940 - accuracy: 0.8261\n",
      "Epoch 39/200\n",
      "23/23 [==============================] - 0s 6ms/step - loss: 0.2018 - accuracy: 0.7826\n",
      "Epoch 40/200\n",
      "23/23 [==============================] - 0s 6ms/step - loss: 0.1946 - accuracy: 0.7826\n",
      "Epoch 41/200\n",
      "23/23 [==============================] - 0s 6ms/step - loss: 0.2012 - accuracy: 0.7826\n",
      "Epoch 42/200\n",
      "23/23 [==============================] - 0s 7ms/step - loss: 0.9139 - accuracy: 0.6087\n",
      "Epoch 43/200\n",
      "23/23 [==============================] - 0s 5ms/step - loss: 0.6826 - accuracy: 0.7391\n",
      "Epoch 44/200\n",
      "23/23 [==============================] - 0s 5ms/step - loss: 0.4347 - accuracy: 0.8261\n",
      "Epoch 45/200\n",
      "23/23 [==============================] - 0s 6ms/step - loss: 0.3163 - accuracy: 0.7826\n",
      "Epoch 46/200\n",
      "23/23 [==============================] - 0s 6ms/step - loss: 0.2252 - accuracy: 0.7391\n",
      "Epoch 47/200\n",
      "23/23 [==============================] - 0s 9ms/step - loss: 0.1992 - accuracy: 0.8261\n",
      "Epoch 48/200\n",
      "23/23 [==============================] - 0s 5ms/step - loss: 0.1963 - accuracy: 0.8261\n",
      "Epoch 49/200\n",
      "23/23 [==============================] - 0s 4ms/step - loss: 0.2110 - accuracy: 0.8261\n",
      "Epoch 50/200\n",
      "23/23 [==============================] - 0s 4ms/step - loss: 0.2022 - accuracy: 0.8261\n",
      "Epoch 51/200\n",
      "23/23 [==============================] - 0s 5ms/step - loss: 0.1972 - accuracy: 0.7826\n",
      "Epoch 52/200\n",
      "23/23 [==============================] - 0s 8ms/step - loss: 0.1948 - accuracy: 0.7826\n",
      "Epoch 53/200\n",
      "23/23 [==============================] - 0s 7ms/step - loss: 0.2042 - accuracy: 0.8261\n",
      "Epoch 54/200\n",
      "23/23 [==============================] - 0s 7ms/step - loss: 0.2033 - accuracy: 0.7826\n",
      "Epoch 55/200\n",
      "23/23 [==============================] - 0s 6ms/step - loss: 0.1935 - accuracy: 0.8696\n",
      "Epoch 56/200\n",
      "23/23 [==============================] - 0s 4ms/step - loss: 0.1966 - accuracy: 0.8696\n",
      "Epoch 57/200\n",
      "23/23 [==============================] - 0s 5ms/step - loss: 0.1963 - accuracy: 0.7826\n",
      "Epoch 58/200\n",
      "23/23 [==============================] - 0s 8ms/step - loss: 0.1941 - accuracy: 0.8261\n",
      "Epoch 59/200\n",
      "23/23 [==============================] - 0s 6ms/step - loss: 0.1965 - accuracy: 0.7826\n",
      "Epoch 60/200\n",
      "23/23 [==============================] - 0s 6ms/step - loss: 0.1961 - accuracy: 0.7826\n",
      "Epoch 61/200\n",
      "23/23 [==============================] - 0s 6ms/step - loss: 0.1907 - accuracy: 0.8696\n",
      "Epoch 62/200\n",
      "23/23 [==============================] - 0s 7ms/step - loss: 0.1983 - accuracy: 0.8261\n",
      "Epoch 63/200\n",
      "23/23 [==============================] - 0s 8ms/step - loss: 0.1988 - accuracy: 0.7826\n",
      "Epoch 64/200\n",
      "23/23 [==============================] - 0s 6ms/step - loss: 0.2037 - accuracy: 0.7826\n",
      "Epoch 65/200\n",
      "23/23 [==============================] - 0s 7ms/step - loss: 0.1937 - accuracy: 0.7826\n",
      "Epoch 66/200\n",
      "23/23 [==============================] - 0s 7ms/step - loss: 0.1913 - accuracy: 0.8261\n",
      "Epoch 67/200\n",
      "23/23 [==============================] - 0s 7ms/step - loss: 0.1970 - accuracy: 0.8261\n",
      "Epoch 68/200\n",
      "23/23 [==============================] - 0s 8ms/step - loss: 0.1975 - accuracy: 0.7826\n",
      "Epoch 69/200\n",
      "23/23 [==============================] - 0s 8ms/step - loss: 0.1955 - accuracy: 0.8261\n",
      "Epoch 70/200\n",
      "23/23 [==============================] - 0s 6ms/step - loss: 0.1890 - accuracy: 0.8696\n",
      "Epoch 71/200\n",
      "23/23 [==============================] - 0s 9ms/step - loss: 0.1956 - accuracy: 0.8261\n",
      "Epoch 72/200\n",
      "23/23 [==============================] - 0s 6ms/step - loss: 0.1966 - accuracy: 0.8261\n",
      "Epoch 73/200\n",
      "23/23 [==============================] - 0s 6ms/step - loss: 0.1868 - accuracy: 0.8696\n",
      "Epoch 74/200\n",
      "23/23 [==============================] - 0s 8ms/step - loss: 0.1952 - accuracy: 0.7391\n",
      "Epoch 75/200\n",
      "23/23 [==============================] - 0s 7ms/step - loss: 0.1956 - accuracy: 0.7826\n",
      "Epoch 76/200\n",
      "23/23 [==============================] - 0s 8ms/step - loss: 0.1944 - accuracy: 0.7391\n",
      "Epoch 77/200\n",
      "23/23 [==============================] - 0s 7ms/step - loss: 0.1966 - accuracy: 0.7826\n",
      "Epoch 78/200\n",
      "23/23 [==============================] - 0s 5ms/step - loss: 0.1896 - accuracy: 0.8261\n",
      "Epoch 79/200\n",
      "23/23 [==============================] - 0s 9ms/step - loss: 0.1966 - accuracy: 0.8261\n",
      "Epoch 80/200\n",
      "23/23 [==============================] - 0s 7ms/step - loss: 0.1954 - accuracy: 0.7391\n",
      "Epoch 81/200\n",
      "23/23 [==============================] - 0s 8ms/step - loss: 0.1918 - accuracy: 0.8261\n",
      "Epoch 82/200\n",
      "23/23 [==============================] - 0s 5ms/step - loss: 0.1922 - accuracy: 0.8261\n",
      "Epoch 83/200\n",
      "23/23 [==============================] - 0s 8ms/step - loss: 0.2005 - accuracy: 0.7826\n",
      "Epoch 84/200\n",
      "23/23 [==============================] - 0s 7ms/step - loss: 0.1937 - accuracy: 0.8261\n",
      "Epoch 85/200\n",
      "23/23 [==============================] - 0s 6ms/step - loss: 0.2011 - accuracy: 0.8261\n",
      "Epoch 86/200\n",
      "23/23 [==============================] - 0s 6ms/step - loss: 0.2024 - accuracy: 0.7391\n",
      "Epoch 87/200\n",
      "23/23 [==============================] - 0s 7ms/step - loss: 0.1948 - accuracy: 0.7826\n",
      "Epoch 88/200\n",
      "23/23 [==============================] - 0s 6ms/step - loss: 0.1949 - accuracy: 0.8261\n",
      "Epoch 89/200\n",
      "23/23 [==============================] - 0s 7ms/step - loss: 0.1979 - accuracy: 0.8696\n",
      "Epoch 90/200\n",
      "23/23 [==============================] - 0s 5ms/step - loss: 0.1875 - accuracy: 0.7826\n",
      "Epoch 91/200\n",
      "23/23 [==============================] - 0s 6ms/step - loss: 0.1938 - accuracy: 0.8261\n",
      "Epoch 92/200\n",
      "23/23 [==============================] - 0s 7ms/step - loss: 0.1926 - accuracy: 0.8696\n",
      "Epoch 93/200\n",
      "23/23 [==============================] - 0s 9ms/step - loss: 0.2039 - accuracy: 0.7391\n",
      "Epoch 94/200\n",
      "23/23 [==============================] - 0s 6ms/step - loss: 0.1901 - accuracy: 0.8261\n",
      "Epoch 95/200\n",
      "23/23 [==============================] - 0s 7ms/step - loss: 0.1929 - accuracy: 0.7826\n",
      "Epoch 96/200\n",
      "23/23 [==============================] - 0s 6ms/step - loss: 0.1994 - accuracy: 0.7826\n",
      "Epoch 97/200\n",
      "23/23 [==============================] - 0s 7ms/step - loss: 0.1887 - accuracy: 0.8261\n",
      "Epoch 98/200\n",
      "23/23 [==============================] - 0s 6ms/step - loss: 0.1948 - accuracy: 0.7826\n",
      "Epoch 99/200\n",
      "23/23 [==============================] - 0s 6ms/step - loss: 0.1976 - accuracy: 0.7826\n",
      "Epoch 100/200\n",
      "23/23 [==============================] - 0s 6ms/step - loss: 0.2002 - accuracy: 0.8261\n",
      "Epoch 101/200\n",
      "23/23 [==============================] - 0s 5ms/step - loss: 0.2050 - accuracy: 0.7826\n",
      "Epoch 102/200\n",
      "23/23 [==============================] - 0s 7ms/step - loss: 0.1915 - accuracy: 0.7826\n",
      "Epoch 103/200\n",
      "23/23 [==============================] - 0s 6ms/step - loss: 0.1940 - accuracy: 0.7826\n",
      "Epoch 104/200\n",
      "23/23 [==============================] - 0s 7ms/step - loss: 0.1975 - accuracy: 0.7826\n",
      "Epoch 105/200\n",
      "23/23 [==============================] - 0s 9ms/step - loss: 0.2015 - accuracy: 0.8261\n",
      "Epoch 106/200\n",
      "23/23 [==============================] - 0s 9ms/step - loss: 0.1925 - accuracy: 0.8261\n",
      "Epoch 107/200\n",
      "23/23 [==============================] - 0s 8ms/step - loss: 0.1954 - accuracy: 0.8696\n",
      "Epoch 108/200\n",
      "23/23 [==============================] - 0s 8ms/step - loss: 0.1955 - accuracy: 0.8261\n",
      "Epoch 109/200\n",
      "23/23 [==============================] - 0s 9ms/step - loss: 0.2021 - accuracy: 0.7826\n",
      "Epoch 110/200\n",
      "23/23 [==============================] - 0s 9ms/step - loss: 0.1952 - accuracy: 0.8261\n",
      "Epoch 111/200\n",
      "23/23 [==============================] - 0s 8ms/step - loss: 0.1979 - accuracy: 0.7391\n",
      "Epoch 112/200\n",
      "23/23 [==============================] - 0s 5ms/step - loss: 0.1949 - accuracy: 0.7391\n",
      "Epoch 113/200\n",
      "23/23 [==============================] - 0s 6ms/step - loss: 0.1880 - accuracy: 0.8696\n",
      "Epoch 114/200\n",
      "23/23 [==============================] - 0s 6ms/step - loss: 0.1872 - accuracy: 0.8696\n",
      "Epoch 115/200\n",
      "23/23 [==============================] - 0s 8ms/step - loss: 0.1976 - accuracy: 0.7826\n",
      "Epoch 116/200\n",
      "23/23 [==============================] - 0s 7ms/step - loss: 0.1980 - accuracy: 0.7826\n",
      "Epoch 117/200\n",
      "23/23 [==============================] - 0s 6ms/step - loss: 0.1909 - accuracy: 0.8696\n",
      "Epoch 118/200\n",
      "23/23 [==============================] - 0s 6ms/step - loss: 0.1940 - accuracy: 0.8261\n",
      "Epoch 119/200\n",
      "23/23 [==============================] - 0s 6ms/step - loss: 0.2015 - accuracy: 0.7826\n",
      "Epoch 120/200\n",
      "23/23 [==============================] - 0s 5ms/step - loss: 0.2001 - accuracy: 0.7826\n",
      "Epoch 121/200\n",
      "23/23 [==============================] - 0s 6ms/step - loss: 0.1897 - accuracy: 0.8261\n",
      "Epoch 122/200\n",
      "23/23 [==============================] - 0s 7ms/step - loss: 0.1942 - accuracy: 0.7391\n",
      "Epoch 123/200\n",
      "23/23 [==============================] - 0s 6ms/step - loss: 0.1909 - accuracy: 0.7826\n",
      "Epoch 124/200\n",
      "23/23 [==============================] - 0s 6ms/step - loss: 0.1927 - accuracy: 0.7826\n",
      "Epoch 125/200\n",
      "23/23 [==============================] - 0s 6ms/step - loss: 0.1938 - accuracy: 0.8261\n",
      "Epoch 126/200\n",
      "23/23 [==============================] - 0s 6ms/step - loss: 0.1933 - accuracy: 0.8261\n",
      "Epoch 127/200\n",
      "23/23 [==============================] - 0s 6ms/step - loss: 0.1911 - accuracy: 0.8261\n",
      "Epoch 128/200\n",
      "23/23 [==============================] - 0s 7ms/step - loss: 0.1949 - accuracy: 0.8261\n",
      "Epoch 129/200\n",
      "23/23 [==============================] - 0s 5ms/step - loss: 0.1988 - accuracy: 0.7826\n",
      "Epoch 130/200\n",
      "23/23 [==============================] - 0s 7ms/step - loss: 0.1949 - accuracy: 0.8261\n",
      "Epoch 131/200\n",
      "23/23 [==============================] - 0s 6ms/step - loss: 0.1914 - accuracy: 0.8261\n",
      "Epoch 132/200\n",
      "23/23 [==============================] - 0s 8ms/step - loss: 0.1942 - accuracy: 0.7826\n",
      "Epoch 133/200\n",
      "23/23 [==============================] - 0s 5ms/step - loss: 0.1891 - accuracy: 0.8696\n",
      "Epoch 134/200\n",
      "23/23 [==============================] - 0s 5ms/step - loss: 0.1913 - accuracy: 0.8261\n",
      "Epoch 135/200\n",
      "23/23 [==============================] - 0s 6ms/step - loss: 0.1912 - accuracy: 0.7826\n",
      "Epoch 136/200\n",
      "23/23 [==============================] - 0s 7ms/step - loss: 0.1918 - accuracy: 0.7826\n",
      "Epoch 137/200\n",
      "23/23 [==============================] - 0s 6ms/step - loss: 0.1915 - accuracy: 0.8261\n",
      "Epoch 138/200\n",
      "23/23 [==============================] - 0s 6ms/step - loss: 0.1938 - accuracy: 0.7826\n",
      "Epoch 139/200\n",
      "23/23 [==============================] - 0s 6ms/step - loss: 0.1909 - accuracy: 0.7826\n",
      "Epoch 140/200\n",
      "23/23 [==============================] - 0s 6ms/step - loss: 0.1891 - accuracy: 0.8261\n",
      "Epoch 141/200\n",
      "23/23 [==============================] - 0s 6ms/step - loss: 0.1877 - accuracy: 0.8261\n",
      "Epoch 142/200\n",
      "23/23 [==============================] - 0s 4ms/step - loss: 0.1932 - accuracy: 0.8696\n",
      "Epoch 143/200\n",
      "23/23 [==============================] - 0s 8ms/step - loss: 0.1914 - accuracy: 0.7826\n",
      "Epoch 144/200\n",
      "23/23 [==============================] - 0s 4ms/step - loss: 0.1903 - accuracy: 0.8261\n",
      "Epoch 145/200\n",
      "23/23 [==============================] - 0s 7ms/step - loss: 0.1925 - accuracy: 0.7826\n",
      "Epoch 146/200\n",
      "23/23 [==============================] - 0s 5ms/step - loss: 0.1885 - accuracy: 0.7826\n",
      "Epoch 147/200\n",
      "23/23 [==============================] - 0s 6ms/step - loss: 0.1848 - accuracy: 0.7826\n",
      "Epoch 148/200\n",
      "23/23 [==============================] - 0s 8ms/step - loss: 0.1903 - accuracy: 0.7826\n",
      "Epoch 149/200\n",
      "23/23 [==============================] - 0s 5ms/step - loss: 0.1941 - accuracy: 0.7391\n",
      "Epoch 150/200\n",
      "23/23 [==============================] - 0s 9ms/step - loss: 0.1957 - accuracy: 0.8261\n",
      "Epoch 151/200\n",
      "23/23 [==============================] - 0s 6ms/step - loss: 0.1934 - accuracy: 0.8261\n",
      "Epoch 152/200\n",
      "23/23 [==============================] - 0s 6ms/step - loss: 0.1934 - accuracy: 0.8696\n",
      "Epoch 153/200\n",
      "23/23 [==============================] - 0s 8ms/step - loss: 0.1976 - accuracy: 0.7391\n",
      "Epoch 154/200\n",
      "23/23 [==============================] - 0s 4ms/step - loss: 0.1940 - accuracy: 0.8696\n",
      "Epoch 155/200\n",
      "23/23 [==============================] - 0s 4ms/step - loss: 0.1899 - accuracy: 0.8696\n",
      "Epoch 156/200\n",
      "23/23 [==============================] - 0s 4ms/step - loss: 0.1962 - accuracy: 0.7391\n",
      "Epoch 157/200\n",
      "23/23 [==============================] - 0s 6ms/step - loss: 0.1903 - accuracy: 0.8261\n",
      "Epoch 158/200\n",
      "23/23 [==============================] - 0s 8ms/step - loss: 0.1966 - accuracy: 0.7391\n",
      "Epoch 159/200\n",
      "23/23 [==============================] - 0s 5ms/step - loss: 0.1931 - accuracy: 0.8696\n",
      "Epoch 160/200\n",
      "23/23 [==============================] - 0s 4ms/step - loss: 0.1954 - accuracy: 0.7826\n",
      "Epoch 161/200\n",
      "23/23 [==============================] - 0s 5ms/step - loss: 0.1912 - accuracy: 0.7826\n",
      "Epoch 162/200\n",
      "23/23 [==============================] - 0s 5ms/step - loss: 0.1991 - accuracy: 0.8261\n",
      "Epoch 163/200\n",
      "23/23 [==============================] - 0s 9ms/step - loss: 0.1909 - accuracy: 0.8261\n",
      "Epoch 164/200\n",
      "23/23 [==============================] - 0s 6ms/step - loss: 0.1890 - accuracy: 0.8696\n",
      "Epoch 165/200\n",
      "23/23 [==============================] - 0s 6ms/step - loss: 0.1989 - accuracy: 0.7826\n",
      "Epoch 166/200\n",
      "23/23 [==============================] - 0s 8ms/step - loss: 0.1900 - accuracy: 0.8696\n",
      "Epoch 167/200\n",
      "23/23 [==============================] - 0s 9ms/step - loss: 0.1951 - accuracy: 0.7826\n",
      "Epoch 168/200\n",
      "23/23 [==============================] - 0s 7ms/step - loss: 0.1896 - accuracy: 0.8261\n",
      "Epoch 169/200\n",
      "23/23 [==============================] - 0s 7ms/step - loss: 0.1937 - accuracy: 0.7826\n",
      "Epoch 170/200\n",
      "23/23 [==============================] - 0s 9ms/step - loss: 0.1892 - accuracy: 0.7826\n",
      "Epoch 171/200\n",
      "23/23 [==============================] - 0s 8ms/step - loss: 0.1947 - accuracy: 0.7826\n",
      "Epoch 172/200\n",
      "23/23 [==============================] - 0s 6ms/step - loss: 0.1955 - accuracy: 0.7826\n",
      "Epoch 173/200\n",
      "23/23 [==============================] - 0s 9ms/step - loss: 0.1899 - accuracy: 0.8261\n",
      "Epoch 174/200\n",
      "23/23 [==============================] - 0s 8ms/step - loss: 0.1952 - accuracy: 0.7826\n",
      "Epoch 175/200\n",
      "23/23 [==============================] - 0s 10ms/step - loss: 0.1905 - accuracy: 0.8696\n",
      "Epoch 176/200\n",
      "23/23 [==============================] - 0s 8ms/step - loss: 0.1891 - accuracy: 0.8261\n",
      "Epoch 177/200\n",
      "23/23 [==============================] - 0s 4ms/step - loss: 0.1937 - accuracy: 0.7826\n",
      "Epoch 178/200\n",
      "23/23 [==============================] - 0s 9ms/step - loss: 0.1882 - accuracy: 0.8696\n",
      "Epoch 179/200\n",
      "23/23 [==============================] - 0s 8ms/step - loss: 0.1878 - accuracy: 0.8696\n",
      "Epoch 180/200\n",
      "23/23 [==============================] - 0s 8ms/step - loss: 0.1949 - accuracy: 0.8261\n",
      "Epoch 181/200\n",
      "23/23 [==============================] - 0s 5ms/step - loss: 0.2037 - accuracy: 0.7391\n",
      "Epoch 182/200\n",
      "23/23 [==============================] - 0s 5ms/step - loss: 0.1931 - accuracy: 0.7826\n",
      "Epoch 183/200\n",
      "23/23 [==============================] - 0s 4ms/step - loss: 0.1986 - accuracy: 0.7826\n",
      "Epoch 184/200\n",
      "23/23 [==============================] - 0s 6ms/step - loss: 0.1901 - accuracy: 0.8261\n",
      "Epoch 185/200\n",
      "23/23 [==============================] - 0s 5ms/step - loss: 0.1893 - accuracy: 0.8696\n",
      "Epoch 186/200\n",
      "23/23 [==============================] - 0s 4ms/step - loss: 0.1972 - accuracy: 0.7391\n",
      "Epoch 187/200\n",
      "23/23 [==============================] - 0s 5ms/step - loss: 0.1917 - accuracy: 0.7826\n",
      "Epoch 188/200\n",
      "23/23 [==============================] - 0s 5ms/step - loss: 0.1916 - accuracy: 0.7826\n",
      "Epoch 189/200\n",
      "23/23 [==============================] - 0s 5ms/step - loss: 0.1919 - accuracy: 0.7826\n",
      "Epoch 190/200\n",
      "23/23 [==============================] - 0s 5ms/step - loss: 0.2004 - accuracy: 0.7826\n",
      "Epoch 191/200\n",
      "23/23 [==============================] - 0s 4ms/step - loss: 0.1937 - accuracy: 0.7826\n",
      "Epoch 192/200\n",
      "23/23 [==============================] - 0s 4ms/step - loss: 0.1950 - accuracy: 0.8261\n",
      "Epoch 193/200\n",
      "23/23 [==============================] - 0s 5ms/step - loss: 0.1898 - accuracy: 0.7826\n",
      "Epoch 194/200\n",
      "23/23 [==============================] - 0s 5ms/step - loss: 0.1881 - accuracy: 0.8696\n",
      "Epoch 195/200\n",
      "23/23 [==============================] - 0s 5ms/step - loss: 0.1926 - accuracy: 0.8696\n",
      "Epoch 196/200\n",
      "23/23 [==============================] - 0s 5ms/step - loss: 0.1884 - accuracy: 0.8261\n",
      "Epoch 197/200\n",
      "23/23 [==============================] - 0s 5ms/step - loss: 0.1926 - accuracy: 0.8261\n",
      "Epoch 198/200\n",
      "23/23 [==============================] - 0s 5ms/step - loss: 0.1962 - accuracy: 0.8261\n",
      "Epoch 199/200\n",
      "23/23 [==============================] - 0s 6ms/step - loss: 0.1883 - accuracy: 0.8261\n",
      "Epoch 200/200\n",
      "23/23 [==============================] - 0s 6ms/step - loss: 0.1921 - accuracy: 0.7826\n"
     ]
    },
    {
     "data": {
      "text/plain": [
       "<keras.src.callbacks.History at 0x765bcc9a10f0>"
      ]
     },
     "execution_count": 74,
     "metadata": {},
     "output_type": "execute_result"
    }
   ],
   "source": [
    "model.fit(X, y, epochs=200, batch_size=1)"
   ]
  },
  {
   "cell_type": "markdown",
   "id": "95f4631f-ac2b-444e-b2f5-92edc59ce758",
   "metadata": {},
   "source": [
    "##### Prediction on new data"
   ]
  },
  {
   "cell_type": "code",
   "execution_count": 81,
   "id": "d0840eb7-6979-4b02-b7bf-e9d3ccfd758b",
   "metadata": {},
   "outputs": [],
   "source": [
    "def predict_next_word(model, tokenizer, text, max_sequence_len):\n",
    "    token_list = tokenizer.texts_to_sequences([text])[0]\n",
    "    token_list = pad_sequences([token_list], maxlen=max_sequence_len-1, padding='pre')\n",
    "    predicted = model.predict(token_list, verbose=0)\n",
    "    predicted_word_index = np.argmax(predicted)\n",
    "    output_word = \"\"\n",
    "    for word, index in tokenizer.word_index.items():\n",
    "        if index == predicted_word_index:\n",
    "            output_word = word\n",
    "            break\n",
    "    return output_word"
   ]
  },
  {
   "cell_type": "code",
   "execution_count": 87,
   "id": "155d5076-a5cb-4631-9da2-354618fb1c4e",
   "metadata": {},
   "outputs": [
    {
     "name": "stdout",
     "output_type": "stream",
     "text": [
      "Next word: to\n"
     ]
    }
   ],
   "source": [
    "new = 'nice'\n",
    "\n",
    "next_word = predict_next_word(model, tokenizer, new, max_sequence_len)\n",
    "print(f\"Next word: {next_word}\")"
   ]
  },
  {
   "cell_type": "code",
   "execution_count": null,
   "id": "22fec848-d057-49de-9b01-3beb0d9ecf88",
   "metadata": {},
   "outputs": [],
   "source": []
  },
  {
   "cell_type": "code",
   "execution_count": null,
   "id": "48601dda-c743-4b3b-9bc9-416e0d62c8a4",
   "metadata": {},
   "outputs": [],
   "source": []
  },
  {
   "cell_type": "code",
   "execution_count": null,
   "id": "c2337bc2-5b15-49ae-a2ed-3f8e3832f00e",
   "metadata": {},
   "outputs": [],
   "source": []
  },
  {
   "cell_type": "code",
   "execution_count": null,
   "id": "e51f58e2-c2ae-4a57-8b6c-59f0a22848d4",
   "metadata": {},
   "outputs": [],
   "source": []
  },
  {
   "cell_type": "code",
   "execution_count": null,
   "id": "27e8a4cf-e398-48b2-a5fc-68d9d27daac7",
   "metadata": {},
   "outputs": [],
   "source": []
  },
  {
   "cell_type": "code",
   "execution_count": null,
   "id": "6df43688-929d-48bf-8012-50690be66d68",
   "metadata": {},
   "outputs": [],
   "source": []
  },
  {
   "cell_type": "code",
   "execution_count": null,
   "id": "aa0a7588-9bb6-439c-86e2-463d31b3b992",
   "metadata": {},
   "outputs": [],
   "source": []
  }
 ],
 "metadata": {
  "kernelspec": {
   "display_name": "Python 3 (ipykernel)",
   "language": "python",
   "name": "python3"
  },
  "language_info": {
   "codemirror_mode": {
    "name": "ipython",
    "version": 3
   },
   "file_extension": ".py",
   "mimetype": "text/x-python",
   "name": "python",
   "nbconvert_exporter": "python",
   "pygments_lexer": "ipython3",
   "version": "3.10.12"
  }
 },
 "nbformat": 4,
 "nbformat_minor": 5
}
