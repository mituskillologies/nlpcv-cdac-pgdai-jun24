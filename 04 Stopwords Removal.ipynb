{
 "cells": [
  {
   "cell_type": "markdown",
   "id": "08b17680-5185-486d-90d9-921bef2159c9",
   "metadata": {},
   "source": [
    "##### Punctuation Removal"
   ]
  },
  {
   "cell_type": "code",
   "execution_count": 3,
   "id": "8eb571ba-76bb-4417-8daf-c23c0b90a34e",
   "metadata": {},
   "outputs": [],
   "source": [
    "from nltk.tokenize import word_tokenize"
   ]
  },
  {
   "cell_type": "code",
   "execution_count": 5,
   "id": "30aced0a-56fa-4518-bbb7-6f4820e88df8",
   "metadata": {},
   "outputs": [],
   "source": [
    "sent = 'Hello friends! How are you? Welcome to the world of \"Python Programming\".'"
   ]
  },
  {
   "cell_type": "code",
   "execution_count": 7,
   "id": "ddca6f17-7959-4cde-8c5f-5b6f7e372a2e",
   "metadata": {},
   "outputs": [
    {
     "name": "stdout",
     "output_type": "stream",
     "text": [
      "Hello friends! How are you? Welcome to the world of \"Python Programming\".\n"
     ]
    }
   ],
   "source": [
    "print(sent)"
   ]
  },
  {
   "cell_type": "code",
   "execution_count": 8,
   "id": "2b99a0c9-30fb-4cac-a28a-e6cf8933b1a6",
   "metadata": {},
   "outputs": [],
   "source": [
    "clean = [x for x in word_tokenize(sent) if x.isalpha() or x.isdigit()]"
   ]
  },
  {
   "cell_type": "code",
   "execution_count": 10,
   "id": "89acd116-c53f-4716-a508-025e9e241ed5",
   "metadata": {},
   "outputs": [
    {
     "data": {
      "text/plain": [
       "'Hello friends How are you Welcome to the world of Python Programming'"
      ]
     },
     "execution_count": 10,
     "metadata": {},
     "output_type": "execute_result"
    }
   ],
   "source": [
    "' '.join(clean)"
   ]
  },
  {
   "cell_type": "code",
   "execution_count": 13,
   "id": "076567bd-ef98-446c-b466-b22cbdd81846",
   "metadata": {},
   "outputs": [
    {
     "name": "stdout",
     "output_type": "stream",
     "text": [
      "Hello friends How are you Welcome to the world of `` Python Programming ''\n"
     ]
    }
   ],
   "source": [
    "import string\n",
    "clean = [x for x in word_tokenize(sent) if x not in string.punctuation]\n",
    "print(' '.join(clean))"
   ]
  },
  {
   "cell_type": "code",
   "execution_count": 14,
   "id": "420c6883-f070-4035-9f03-fd18518469ea",
   "metadata": {},
   "outputs": [
    {
     "data": {
      "text/plain": [
       "['Hello',\n",
       " 'friends',\n",
       " 'How',\n",
       " 'are',\n",
       " 'you',\n",
       " 'Welcome',\n",
       " 'to',\n",
       " 'the',\n",
       " 'world',\n",
       " 'of',\n",
       " '``',\n",
       " 'Python',\n",
       " 'Programming',\n",
       " \"''\"]"
      ]
     },
     "execution_count": 14,
     "metadata": {},
     "output_type": "execute_result"
    }
   ],
   "source": [
    "clean"
   ]
  },
  {
   "cell_type": "markdown",
   "id": "1db83f0f-46fc-4eaa-bb57-c15b38415eea",
   "metadata": {},
   "source": [
    "##### Stopwords Removal"
   ]
  },
  {
   "cell_type": "code",
   "execution_count": 16,
   "id": "0e060dfd-c27b-4ba8-9ed8-fa975ea46040",
   "metadata": {},
   "outputs": [],
   "source": [
    "from nltk.corpus import stopwords"
   ]
  },
  {
   "cell_type": "code",
   "execution_count": 17,
   "id": "0256d841-0e3e-4721-9b38-0d72e3e7ca19",
   "metadata": {},
   "outputs": [],
   "source": [
    "swords = stopwords.words('english')"
   ]
  },
  {
   "cell_type": "code",
   "execution_count": 18,
   "id": "ab82fadd-d19b-4aba-b7e9-fedea3f114e1",
   "metadata": {},
   "outputs": [
    {
     "data": {
      "text/plain": [
       "['i',\n",
       " 'me',\n",
       " 'my',\n",
       " 'myself',\n",
       " 'we',\n",
       " 'our',\n",
       " 'ours',\n",
       " 'ourselves',\n",
       " 'you',\n",
       " \"you're\",\n",
       " \"you've\",\n",
       " \"you'll\",\n",
       " \"you'd\",\n",
       " 'your',\n",
       " 'yours',\n",
       " 'yourself',\n",
       " 'yourselves',\n",
       " 'he',\n",
       " 'him',\n",
       " 'his',\n",
       " 'himself',\n",
       " 'she',\n",
       " \"she's\",\n",
       " 'her',\n",
       " 'hers',\n",
       " 'herself',\n",
       " 'it',\n",
       " \"it's\",\n",
       " 'its',\n",
       " 'itself',\n",
       " 'they',\n",
       " 'them',\n",
       " 'their',\n",
       " 'theirs',\n",
       " 'themselves',\n",
       " 'what',\n",
       " 'which',\n",
       " 'who',\n",
       " 'whom',\n",
       " 'this',\n",
       " 'that',\n",
       " \"that'll\",\n",
       " 'these',\n",
       " 'those',\n",
       " 'am',\n",
       " 'is',\n",
       " 'are',\n",
       " 'was',\n",
       " 'were',\n",
       " 'be',\n",
       " 'been',\n",
       " 'being',\n",
       " 'have',\n",
       " 'has',\n",
       " 'had',\n",
       " 'having',\n",
       " 'do',\n",
       " 'does',\n",
       " 'did',\n",
       " 'doing',\n",
       " 'a',\n",
       " 'an',\n",
       " 'the',\n",
       " 'and',\n",
       " 'but',\n",
       " 'if',\n",
       " 'or',\n",
       " 'because',\n",
       " 'as',\n",
       " 'until',\n",
       " 'while',\n",
       " 'of',\n",
       " 'at',\n",
       " 'by',\n",
       " 'for',\n",
       " 'with',\n",
       " 'about',\n",
       " 'against',\n",
       " 'between',\n",
       " 'into',\n",
       " 'through',\n",
       " 'during',\n",
       " 'before',\n",
       " 'after',\n",
       " 'above',\n",
       " 'below',\n",
       " 'to',\n",
       " 'from',\n",
       " 'up',\n",
       " 'down',\n",
       " 'in',\n",
       " 'out',\n",
       " 'on',\n",
       " 'off',\n",
       " 'over',\n",
       " 'under',\n",
       " 'again',\n",
       " 'further',\n",
       " 'then',\n",
       " 'once',\n",
       " 'here',\n",
       " 'there',\n",
       " 'when',\n",
       " 'where',\n",
       " 'why',\n",
       " 'how',\n",
       " 'all',\n",
       " 'any',\n",
       " 'both',\n",
       " 'each',\n",
       " 'few',\n",
       " 'more',\n",
       " 'most',\n",
       " 'other',\n",
       " 'some',\n",
       " 'such',\n",
       " 'no',\n",
       " 'nor',\n",
       " 'not',\n",
       " 'only',\n",
       " 'own',\n",
       " 'same',\n",
       " 'so',\n",
       " 'than',\n",
       " 'too',\n",
       " 'very',\n",
       " 's',\n",
       " 't',\n",
       " 'can',\n",
       " 'will',\n",
       " 'just',\n",
       " 'don',\n",
       " \"don't\",\n",
       " 'should',\n",
       " \"should've\",\n",
       " 'now',\n",
       " 'd',\n",
       " 'll',\n",
       " 'm',\n",
       " 'o',\n",
       " 're',\n",
       " 've',\n",
       " 'y',\n",
       " 'ain',\n",
       " 'aren',\n",
       " \"aren't\",\n",
       " 'couldn',\n",
       " \"couldn't\",\n",
       " 'didn',\n",
       " \"didn't\",\n",
       " 'doesn',\n",
       " \"doesn't\",\n",
       " 'hadn',\n",
       " \"hadn't\",\n",
       " 'hasn',\n",
       " \"hasn't\",\n",
       " 'haven',\n",
       " \"haven't\",\n",
       " 'isn',\n",
       " \"isn't\",\n",
       " 'ma',\n",
       " 'mightn',\n",
       " \"mightn't\",\n",
       " 'mustn',\n",
       " \"mustn't\",\n",
       " 'needn',\n",
       " \"needn't\",\n",
       " 'shan',\n",
       " \"shan't\",\n",
       " 'shouldn',\n",
       " \"shouldn't\",\n",
       " 'wasn',\n",
       " \"wasn't\",\n",
       " 'weren',\n",
       " \"weren't\",\n",
       " 'won',\n",
       " \"won't\",\n",
       " 'wouldn',\n",
       " \"wouldn't\"]"
      ]
     },
     "execution_count": 18,
     "metadata": {},
     "output_type": "execute_result"
    }
   ],
   "source": [
    "swords"
   ]
  },
  {
   "cell_type": "code",
   "execution_count": 19,
   "id": "d2bbf1b0-6b0a-457a-9abc-c2d367e55e58",
   "metadata": {},
   "outputs": [
    {
     "data": {
      "text/plain": [
       "179"
      ]
     },
     "execution_count": 19,
     "metadata": {},
     "output_type": "execute_result"
    }
   ],
   "source": [
    "len(swords)"
   ]
  },
  {
   "cell_type": "code",
   "execution_count": 26,
   "id": "94093de3-d0aa-4f7e-95da-d63d59dc3d9d",
   "metadata": {},
   "outputs": [],
   "source": [
    "clean = [x for x in word_tokenize(sent) if x.lower() not in swords and x.isalnum()]"
   ]
  },
  {
   "cell_type": "code",
   "execution_count": 27,
   "id": "c853197f-f32e-4a5c-bb1c-74a375e7c81e",
   "metadata": {},
   "outputs": [
    {
     "data": {
      "text/plain": [
       "['Hello', 'friends', 'Welcome', 'world', 'Python', 'Programming']"
      ]
     },
     "execution_count": 27,
     "metadata": {},
     "output_type": "execute_result"
    }
   ],
   "source": [
    "clean"
   ]
  },
  {
   "cell_type": "code",
   "execution_count": 28,
   "id": "63264cb7-4c93-48d7-be11-8a7a13551f90",
   "metadata": {},
   "outputs": [],
   "source": [
    "swords = stopwords.words('marathi')"
   ]
  },
  {
   "cell_type": "code",
   "execution_count": 29,
   "id": "06eabfb2-c9c4-48e7-ab90-e95de3955e69",
   "metadata": {},
   "outputs": [
    {
     "data": {
      "text/plain": [
       "['अधिक',\n",
       " 'अनेक',\n",
       " 'अशी',\n",
       " 'असलयाचे',\n",
       " 'असलेल्या',\n",
       " 'असा',\n",
       " 'असून',\n",
       " 'असे',\n",
       " 'आज',\n",
       " 'आणि',\n",
       " 'आता',\n",
       " 'आपल्या',\n",
       " 'आला',\n",
       " 'आली',\n",
       " 'आले',\n",
       " 'आहे',\n",
       " 'आहेत',\n",
       " 'एक',\n",
       " 'एका',\n",
       " 'कमी',\n",
       " 'करणयात',\n",
       " 'करून',\n",
       " 'का',\n",
       " 'काम',\n",
       " 'काय',\n",
       " 'काही',\n",
       " 'किवा',\n",
       " 'की',\n",
       " 'केला',\n",
       " 'केली',\n",
       " 'केले',\n",
       " 'कोटी',\n",
       " 'गेल्या',\n",
       " 'घेऊन',\n",
       " 'जात',\n",
       " 'झाला',\n",
       " 'झाली',\n",
       " 'झाले',\n",
       " 'झालेल्या',\n",
       " 'टा',\n",
       " 'डॉ',\n",
       " 'तर',\n",
       " 'तरी',\n",
       " 'तसेच',\n",
       " 'ता',\n",
       " 'ती',\n",
       " 'तीन',\n",
       " 'ते',\n",
       " 'तो',\n",
       " 'त्या',\n",
       " 'त्याचा',\n",
       " 'त्याची',\n",
       " 'त्याच्या',\n",
       " 'त्याना',\n",
       " 'त्यानी',\n",
       " 'त्यामुळे',\n",
       " 'त्री',\n",
       " 'दिली',\n",
       " 'दोन',\n",
       " 'न',\n",
       " 'नाही',\n",
       " 'निर्ण्य',\n",
       " 'पण',\n",
       " 'पम',\n",
       " 'परयतन',\n",
       " 'पाटील',\n",
       " 'म',\n",
       " 'मात्र',\n",
       " 'माहिती',\n",
       " 'मी',\n",
       " 'मुबी',\n",
       " 'म्हणजे',\n",
       " 'म्हणाले',\n",
       " 'म्हणून',\n",
       " 'या',\n",
       " 'याचा',\n",
       " 'याची',\n",
       " 'याच्या',\n",
       " 'याना',\n",
       " 'यानी',\n",
       " 'येणार',\n",
       " 'येत',\n",
       " 'येथील',\n",
       " 'येथे',\n",
       " 'लाख',\n",
       " 'व',\n",
       " 'व्यकत',\n",
       " 'सर्व',\n",
       " 'सागित्ले',\n",
       " 'सुरू',\n",
       " 'हजार',\n",
       " 'हा',\n",
       " 'ही',\n",
       " 'हे',\n",
       " 'होणार',\n",
       " 'होत',\n",
       " 'होता',\n",
       " 'होती',\n",
       " 'होते']"
      ]
     },
     "execution_count": 29,
     "metadata": {},
     "output_type": "execute_result"
    }
   ],
   "source": [
    "swords"
   ]
  },
  {
   "cell_type": "code",
   "execution_count": null,
   "id": "479c4050-90e8-4dda-be6a-bafd16dda6d7",
   "metadata": {},
   "outputs": [],
   "source": []
  }
 ],
 "metadata": {
  "kernelspec": {
   "display_name": "Python 3 (ipykernel)",
   "language": "python",
   "name": "python3"
  },
  "language_info": {
   "codemirror_mode": {
    "name": "ipython",
    "version": 3
   },
   "file_extension": ".py",
   "mimetype": "text/x-python",
   "name": "python",
   "nbconvert_exporter": "python",
   "pygments_lexer": "ipython3",
   "version": "3.10.12"
  }
 },
 "nbformat": 4,
 "nbformat_minor": 5
}
